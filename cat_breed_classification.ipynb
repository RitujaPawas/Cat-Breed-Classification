{
  "nbformat": 4,
  "nbformat_minor": 0,
  "metadata": {
    "accelerator": "GPU",
    "colab": {
      "name": "cat_breed_classification.ipynb",
      "provenance": []
    },
    "kernelspec": {
      "display_name": "Python 3",
      "name": "python3"
    },
    "language_info": {
      "name": "python"
    }
  },
  "cells": [
    {
      "cell_type": "code",
      "metadata": {
        "id": "pOJbm8cVSCfe"
      },
      "source": [
        "import os\n",
        "os.chdir('/content/drive/MyDrive/Assignment-Cats')"
      ],
      "execution_count": null,
      "outputs": []
    },
    {
      "cell_type": "code",
      "metadata": {
        "colab": {
          "base_uri": "https://localhost:8080/"
        },
        "id": "3hr8mlpfVesd",
        "outputId": "abcc28b5-5109-43ef-8c8f-b80bc5aaedc1"
      },
      "source": [
        "!ls"
      ],
      "execution_count": null,
      "outputs": [
        {
          "output_type": "stream",
          "text": [
            "Assign-Cat\t\t\t  inceptionv3.h5\t  test.csv\n",
            "cat_breed_classification.ipynb\t  inceptionv3_weights.h5  test.ipynb\n",
            "cat-breed-csv-modification.ipynb  re_images\t\t  Untitled0.ipynb\n",
            "cats.csv\t\t\t  TestandTrain\n"
          ],
          "name": "stdout"
        }
      ]
    },
    {
      "cell_type": "code",
      "metadata": {
        "id": "8pXYJDS57rQI"
      },
      "source": [
        ""
      ],
      "execution_count": null,
      "outputs": []
    },
    {
      "cell_type": "code",
      "metadata": {
        "id": "neg32i2sVdvS"
      },
      "source": [
        "import cv2\n",
        "import pandas as pd\n",
        "import numpy as np\n",
        "import matplotlib.pyplot as plt\n",
        "import math\n",
        "import seaborn as sns\n",
        "\n",
        "%matplotlib inline"
      ],
      "execution_count": null,
      "outputs": []
    },
    {
      "cell_type": "code",
      "metadata": {
        "id": "vfEZiVyBS6aU"
      },
      "source": [
        "import tensorflow as tf\n",
        "from tensorflow import keras\n",
        "from tensorflow.keras import layers\n",
        "from tensorflow.keras.layers import Input, Dense, BatchNormalization, Activation, Dropout, Flatten, GlobalAveragePooling2D\n",
        "\n",
        "from tensorflow.keras.models import Model\n",
        "\n",
        "from tensorflow.keras.optimizers import RMSprop, SGD\n",
        "\n",
        "from tensorflow.keras.utils import plot_model\n",
        "\n"
      ],
      "execution_count": null,
      "outputs": []
    },
    {
      "cell_type": "code",
      "metadata": {
        "id": "X5IDNqHkEJ8t"
      },
      "source": [
        "dir = '/content/drive/MyDrive/Assignment-Cats/re_images'"
      ],
      "execution_count": null,
      "outputs": []
    },
    {
      "cell_type": "code",
      "metadata": {
        "id": "3MzF0rpKEpEQ"
      },
      "source": [
        "from tensorflow.keras.preprocessing.image import ImageDataGenerator"
      ],
      "execution_count": null,
      "outputs": []
    },
    {
      "cell_type": "code",
      "metadata": {
        "id": "VGsIvM-KE-Tc"
      },
      "source": [
        "image_datagenerator = ImageDataGenerator(\n",
        "    rescale=1./255,\n",
        "    rotation_range=30,\n",
        "    width_shift_range = 0.2,\n",
        "    shear_range = 0.2,\n",
        "    horizontal_flip = True,\n",
        "    validation_split = 0.2\n",
        "\n",
        ")"
      ],
      "execution_count": null,
      "outputs": []
    },
    {
      "cell_type": "code",
      "metadata": {
        "colab": {
          "base_uri": "https://localhost:8080/"
        },
        "id": "9J3cGccyF-py",
        "outputId": "f73a404b-cdb3-4df8-9a1e-c45a4ea8e640"
      },
      "source": [
        "\n",
        "training_set = image_datagenerator.flow_from_directory(\n",
        "    dir,\n",
        "    target_size = (299,299),\n",
        "    class_mode = 'categorical',\n",
        "    batch_size = 32,\n",
        "    subset = 'training',\n",
        "    seed = 10,\n",
        "    shuffle = False\n",
        ")\n",
        "validation_set = image_datagenerator.flow_from_directory(\n",
        "    dir,\n",
        "    target_size = (299,299),\n",
        "    class_mode = 'categorical',\n",
        "    batch_size = 32,\n",
        "    shuffle = False,\n",
        "    seed = 10,\n",
        "    subset = 'validation'\n",
        ")"
      ],
      "execution_count": null,
      "outputs": [
        {
          "output_type": "stream",
          "text": [
            "Found 19875 images belonging to 10 classes.\n",
            "Found 4965 images belonging to 10 classes.\n"
          ],
          "name": "stdout"
        }
      ]
    },
    {
      "cell_type": "code",
      "metadata": {
        "id": "0Eyl7MwrM-8z"
      },
      "source": [
        "from tensorflow.keras.applications.inception_v3 import InceptionV3"
      ],
      "execution_count": null,
      "outputs": []
    },
    {
      "cell_type": "code",
      "metadata": {
        "id": "04NkRHe9F-yt"
      },
      "source": [
        "\n",
        "model_base = InceptionV3(weights = 'imagenet', include_top = False, input_shape = (299,299,3))"
      ],
      "execution_count": null,
      "outputs": []
    },
    {
      "cell_type": "code",
      "metadata": {
        "colab": {
          "base_uri": "https://localhost:8080/"
        },
        "id": "TSN0n-iMGP7X",
        "outputId": "8fe5e2ff-7007-4f6c-c39c-fc4e38f8e94a"
      },
      "source": [
        "last_layer = model_base.get_layer('mixed7')\n",
        "print('last layer output shape:', last_layer.output_shape)\n",
        "last_output = last_layer.output"
      ],
      "execution_count": null,
      "outputs": [
        {
          "output_type": "stream",
          "text": [
            "last layer output shape: (None, 17, 17, 768)\n"
          ],
          "name": "stdout"
        }
      ]
    },
    {
      "cell_type": "code",
      "metadata": {
        "id": "M7wCW3Q_F_DL"
      },
      "source": [
        "y = (model_base.output)\n",
        "\n",
        "y = GlobalAveragePooling2D()(y)\n",
        "y = Dense(1024, activation='relu')(y)\n",
        "y = Dropout(0.2)(y)\n",
        "y = Dense(128, activation='relu')(y)\n",
        "y = Dropout(0.2)(y)\n",
        "predictions = Dense(10, activation='softmax')(y)\n"
      ],
      "execution_count": null,
      "outputs": []
    },
    {
      "cell_type": "code",
      "metadata": {
        "id": "zhf0rFOOF_Kd"
      },
      "source": [
        "\n",
        "model_1 = Model(inputs = model_base.input, outputs = predictions)\n"
      ],
      "execution_count": null,
      "outputs": []
    },
    {
      "cell_type": "code",
      "metadata": {
        "id": "WLh5jjM4ITJO"
      },
      "source": [
        "model_1.compile(optimizer = 'rmsprop', loss = 'categorical_crossentropy', metrics = (['accuracy']))"
      ],
      "execution_count": null,
      "outputs": []
    },
    {
      "cell_type": "code",
      "metadata": {
        "colab": {
          "background_save": true,
          "base_uri": "https://localhost:8080/"
        },
        "id": "b8lxVelLTA8z",
        "outputId": "075e6abd-dafd-4887-abd6-398e6fd97377"
      },
      "source": [
        "history1 = model_1.fit(training_set, validation_data=validation_set, epochs=10, steps_per_epoch=150)\n",
        "\n",
        "model_1.save('model_inceptionv3.h5')\n",
        "model_1.save_weights('model_inceptionv3_weights.h5')\n",
        "\n",
        "plt.figure(figsize=(12,10))\n",
        "plt.plot(history.history1['accuracy'])\n",
        "plt.plot(history.history1['val_accuracy'])\n",
        "plt.title('model accuracy')\n",
        "plt.ylabel('accuracy')\n",
        "plt.xlabel('epoch')\n",
        "plt.legend(['train', 'test'])\n",
        "plt.show()\n",
        "\n",
        "plt.figure(figsize=(12,10))\n",
        "plt.plot(history.history1['loss'])\n",
        "plt.plot(history.history1['val_loss'])\n",
        "plt.title('model loss')\n",
        "plt.ylabel('loss')\n",
        "plt.xlabel('epoch')\n",
        "plt.legend(['train', 'test'])\n",
        "plt.show()"
      ],
      "execution_count": null,
      "outputs": [
        {
          "output_type": "stream",
          "text": [
            "Epoch 1/10\n",
            "150/150 [==============================] - 5682s 38s/step - loss: 2.4748 - accuracy: 0.1131 - val_loss: 384.1169 - val_accuracy: 0.1257\n",
            "Epoch 2/10\n",
            "150/150 [==============================] - 5536s 37s/step - loss: 2.3297 - accuracy: 0.0998 - val_loss: 45.9825 - val_accuracy: 0.1319\n",
            "Epoch 3/10\n",
            "150/150 [==============================] - ETA: 0s - loss: 2.3131 - accuracy: 0.1052 "
          ],
          "name": "stdout"
        }
      ]
    },
    {
      "cell_type": "code",
      "metadata": {
        "id": "xhh0J1kUJC99"
      },
      "source": [
        ""
      ],
      "execution_count": null,
      "outputs": []
    }
  ]
}