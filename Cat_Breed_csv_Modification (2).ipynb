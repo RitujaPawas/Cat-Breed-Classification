{
  "nbformat": 4,
  "nbformat_minor": 0,
  "metadata": {
    "colab": {
      "name": "Cat-Breed-csv-Modification.ipynb",
      "provenance": [],
      "collapsed_sections": []
    },
    "kernelspec": {
      "name": "python3",
      "display_name": "Python 3"
    },
    "language_info": {
      "name": "python"
    },
    "accelerator": "GPU"
  },
  "cells": [
    {
      "cell_type": "code",
      "metadata": {
        "id": "cPHRR1xRPbPs"
      },
      "source": [
        ""
      ],
      "execution_count": null,
      "outputs": []
    },
    {
      "cell_type": "code",
      "metadata": {
        "id": "z42dAFHNlzLq"
      },
      "source": [
        "import os\n",
        "os.chdir('/content/drive/MyDrive/Assignment-Cats')\n"
      ],
      "execution_count": null,
      "outputs": []
    },
    {
      "cell_type": "code",
      "metadata": {
        "id": "HgqPKrasl-yG"
      },
      "source": [
        "import numpy as np\n",
        "import pandas as pd\n",
        "import math\n"
      ],
      "execution_count": null,
      "outputs": []
    },
    {
      "cell_type": "code",
      "metadata": {
        "id": "W97HJ5vUq-cy"
      },
      "source": [
        "df = pd.read_csv('/content/drive/MyDrive/Assignment-Cats/cats.csv')"
      ],
      "execution_count": null,
      "outputs": []
    },
    {
      "cell_type": "code",
      "metadata": {
        "colab": {
          "base_uri": "https://localhost:8080/",
          "height": 326
        },
        "id": "DekRovTrrbm1",
        "outputId": "3b4a04ef-b25a-4418-9ea6-97d4310294a0"
      },
      "source": [
        "df.head(5)"
      ],
      "execution_count": null,
      "outputs": [
        {
          "output_type": "execute_result",
          "data": {
            "text/html": [
              "<div>\n",
              "<style scoped>\n",
              "    .dataframe tbody tr th:only-of-type {\n",
              "        vertical-align: middle;\n",
              "    }\n",
              "\n",
              "    .dataframe tbody tr th {\n",
              "        vertical-align: top;\n",
              "    }\n",
              "\n",
              "    .dataframe thead th {\n",
              "        text-align: right;\n",
              "    }\n",
              "</style>\n",
              "<table border=\"1\" class=\"dataframe\">\n",
              "  <thead>\n",
              "    <tr style=\"text-align: right;\">\n",
              "      <th></th>\n",
              "      <th>Unnamed: 0</th>\n",
              "      <th>id</th>\n",
              "      <th>url</th>\n",
              "      <th>type</th>\n",
              "      <th>age</th>\n",
              "      <th>gender</th>\n",
              "      <th>size</th>\n",
              "      <th>coat</th>\n",
              "      <th>breed</th>\n",
              "      <th>photos</th>\n",
              "      <th>med_photos</th>\n",
              "    </tr>\n",
              "  </thead>\n",
              "  <tbody>\n",
              "    <tr>\n",
              "      <th>0</th>\n",
              "      <td>0</td>\n",
              "      <td>46744842</td>\n",
              "      <td>https://www.petfinder.com/cat/arianna-46744842...</td>\n",
              "      <td>Cat</td>\n",
              "      <td>Adult</td>\n",
              "      <td>Female</td>\n",
              "      <td>Medium</td>\n",
              "      <td>NaN</td>\n",
              "      <td>Abyssinian</td>\n",
              "      <td>[{'small': 'https://dl5zpyw5k3jeb.cloudfront.n...</td>\n",
              "      <td>['https://dl5zpyw5k3jeb.cloudfront.net/photos/...</td>\n",
              "    </tr>\n",
              "    <tr>\n",
              "      <th>1</th>\n",
              "      <td>1</td>\n",
              "      <td>46717321</td>\n",
              "      <td>https://www.petfinder.com/cat/ozzy-46717321/oh...</td>\n",
              "      <td>Cat</td>\n",
              "      <td>Adult</td>\n",
              "      <td>Male</td>\n",
              "      <td>Extra Large</td>\n",
              "      <td>NaN</td>\n",
              "      <td>Abyssinian</td>\n",
              "      <td>[{'small': 'https://dl5zpyw5k3jeb.cloudfront.n...</td>\n",
              "      <td>['https://dl5zpyw5k3jeb.cloudfront.net/photos/...</td>\n",
              "    </tr>\n",
              "    <tr>\n",
              "      <th>2</th>\n",
              "      <td>2</td>\n",
              "      <td>46626338</td>\n",
              "      <td>https://www.petfinder.com/cat/zena-46626338/ca...</td>\n",
              "      <td>Cat</td>\n",
              "      <td>Senior</td>\n",
              "      <td>Female</td>\n",
              "      <td>Medium</td>\n",
              "      <td>NaN</td>\n",
              "      <td>Abyssinian</td>\n",
              "      <td>[{'small': 'https://dl5zpyw5k3jeb.cloudfront.n...</td>\n",
              "      <td>['https://dl5zpyw5k3jeb.cloudfront.net/photos/...</td>\n",
              "    </tr>\n",
              "    <tr>\n",
              "      <th>3</th>\n",
              "      <td>3</td>\n",
              "      <td>46620170</td>\n",
              "      <td>https://www.petfinder.com/cat/mika-46620170/ca...</td>\n",
              "      <td>Cat</td>\n",
              "      <td>Baby</td>\n",
              "      <td>Female</td>\n",
              "      <td>Small</td>\n",
              "      <td>Short</td>\n",
              "      <td>Abyssinian</td>\n",
              "      <td>[{'small': 'https://dl5zpyw5k3jeb.cloudfront.n...</td>\n",
              "      <td>['https://dl5zpyw5k3jeb.cloudfront.net/photos/...</td>\n",
              "    </tr>\n",
              "    <tr>\n",
              "      <th>4</th>\n",
              "      <td>4</td>\n",
              "      <td>46582751</td>\n",
              "      <td>https://www.petfinder.com/cat/ruby-46582751/fl...</td>\n",
              "      <td>Cat</td>\n",
              "      <td>Young</td>\n",
              "      <td>Female</td>\n",
              "      <td>Medium</td>\n",
              "      <td>NaN</td>\n",
              "      <td>Abyssinian</td>\n",
              "      <td>[{'small': 'https://dl5zpyw5k3jeb.cloudfront.n...</td>\n",
              "      <td>['https://dl5zpyw5k3jeb.cloudfront.net/photos/...</td>\n",
              "    </tr>\n",
              "  </tbody>\n",
              "</table>\n",
              "</div>"
            ],
            "text/plain": [
              "   Unnamed: 0  ...                                         med_photos\n",
              "0           0  ...  ['https://dl5zpyw5k3jeb.cloudfront.net/photos/...\n",
              "1           1  ...  ['https://dl5zpyw5k3jeb.cloudfront.net/photos/...\n",
              "2           2  ...  ['https://dl5zpyw5k3jeb.cloudfront.net/photos/...\n",
              "3           3  ...  ['https://dl5zpyw5k3jeb.cloudfront.net/photos/...\n",
              "4           4  ...  ['https://dl5zpyw5k3jeb.cloudfront.net/photos/...\n",
              "\n",
              "[5 rows x 11 columns]"
            ]
          },
          "metadata": {
            "tags": []
          },
          "execution_count": 5
        }
      ]
    },
    {
      "cell_type": "code",
      "metadata": {
        "colab": {
          "base_uri": "https://localhost:8080/"
        },
        "id": "2O5nFOMLrjGC",
        "outputId": "a0e6657c-44cc-4c28-fd10-d3df21217bd6"
      },
      "source": [
        "df.shape"
      ],
      "execution_count": null,
      "outputs": [
        {
          "output_type": "execute_result",
          "data": {
            "text/plain": [
              "(67145, 11)"
            ]
          },
          "metadata": {
            "tags": []
          },
          "execution_count": 6
        }
      ]
    },
    {
      "cell_type": "code",
      "metadata": {
        "colab": {
          "base_uri": "https://localhost:8080/"
        },
        "id": "dPB68o-lrw4f",
        "outputId": "fe11cd2d-8f38-4e97-f93a-356a52a35c24"
      },
      "source": [
        "df.info()"
      ],
      "execution_count": null,
      "outputs": [
        {
          "output_type": "stream",
          "text": [
            "<class 'pandas.core.frame.DataFrame'>\n",
            "RangeIndex: 67145 entries, 0 to 67144\n",
            "Data columns (total 11 columns):\n",
            " #   Column      Non-Null Count  Dtype \n",
            "---  ------      --------------  ----- \n",
            " 0   Unnamed: 0  67145 non-null  int64 \n",
            " 1   id          67145 non-null  int64 \n",
            " 2   url         67145 non-null  object\n",
            " 3   type        67145 non-null  object\n",
            " 4   age         67145 non-null  object\n",
            " 5   gender      67145 non-null  object\n",
            " 6   size        67145 non-null  object\n",
            " 7   coat        42012 non-null  object\n",
            " 8   breed       67145 non-null  object\n",
            " 9   photos      67145 non-null  object\n",
            " 10  med_photos  67145 non-null  object\n",
            "dtypes: int64(2), object(9)\n",
            "memory usage: 5.6+ MB\n"
          ],
          "name": "stdout"
        }
      ]
    },
    {
      "cell_type": "code",
      "metadata": {
        "colab": {
          "base_uri": "https://localhost:8080/",
          "height": 419
        },
        "id": "VX2RJV8pryTF",
        "outputId": "0e82eedd-d4c2-4d0e-f460-fbd49858f972"
      },
      "source": [
        "df[['breed']]"
      ],
      "execution_count": null,
      "outputs": [
        {
          "output_type": "execute_result",
          "data": {
            "text/html": [
              "<div>\n",
              "<style scoped>\n",
              "    .dataframe tbody tr th:only-of-type {\n",
              "        vertical-align: middle;\n",
              "    }\n",
              "\n",
              "    .dataframe tbody tr th {\n",
              "        vertical-align: top;\n",
              "    }\n",
              "\n",
              "    .dataframe thead th {\n",
              "        text-align: right;\n",
              "    }\n",
              "</style>\n",
              "<table border=\"1\" class=\"dataframe\">\n",
              "  <thead>\n",
              "    <tr style=\"text-align: right;\">\n",
              "      <th></th>\n",
              "      <th>breed</th>\n",
              "    </tr>\n",
              "  </thead>\n",
              "  <tbody>\n",
              "    <tr>\n",
              "      <th>0</th>\n",
              "      <td>Abyssinian</td>\n",
              "    </tr>\n",
              "    <tr>\n",
              "      <th>1</th>\n",
              "      <td>Abyssinian</td>\n",
              "    </tr>\n",
              "    <tr>\n",
              "      <th>2</th>\n",
              "      <td>Abyssinian</td>\n",
              "    </tr>\n",
              "    <tr>\n",
              "      <th>3</th>\n",
              "      <td>Abyssinian</td>\n",
              "    </tr>\n",
              "    <tr>\n",
              "      <th>4</th>\n",
              "      <td>Abyssinian</td>\n",
              "    </tr>\n",
              "    <tr>\n",
              "      <th>...</th>\n",
              "      <td>...</td>\n",
              "    </tr>\n",
              "    <tr>\n",
              "      <th>67140</th>\n",
              "      <td>Tuxedo</td>\n",
              "    </tr>\n",
              "    <tr>\n",
              "      <th>67141</th>\n",
              "      <td>Tuxedo</td>\n",
              "    </tr>\n",
              "    <tr>\n",
              "      <th>67142</th>\n",
              "      <td>Tuxedo</td>\n",
              "    </tr>\n",
              "    <tr>\n",
              "      <th>67143</th>\n",
              "      <td>Tuxedo</td>\n",
              "    </tr>\n",
              "    <tr>\n",
              "      <th>67144</th>\n",
              "      <td>York Chocolate</td>\n",
              "    </tr>\n",
              "  </tbody>\n",
              "</table>\n",
              "<p>67145 rows × 1 columns</p>\n",
              "</div>"
            ],
            "text/plain": [
              "                breed\n",
              "0          Abyssinian\n",
              "1          Abyssinian\n",
              "2          Abyssinian\n",
              "3          Abyssinian\n",
              "4          Abyssinian\n",
              "...               ...\n",
              "67140          Tuxedo\n",
              "67141          Tuxedo\n",
              "67142          Tuxedo\n",
              "67143          Tuxedo\n",
              "67144  York Chocolate\n",
              "\n",
              "[67145 rows x 1 columns]"
            ]
          },
          "metadata": {
            "tags": []
          },
          "execution_count": 8
        }
      ]
    },
    {
      "cell_type": "code",
      "metadata": {
        "id": "AGS3XA66wHZ0"
      },
      "source": [
        "req_breed = ['Bombay', 'British Shorthair', 'Burmese', 'Calico', 'Dilute Calico', 'Himalayan', 'Munchkin', 'Ragdoll', 'Russian Blue', 'Siberian']\n",
        "filter = (df['breed'].isin(req_breed))"
      ],
      "execution_count": null,
      "outputs": []
    },
    {
      "cell_type": "code",
      "metadata": {
        "id": "0hvBkdezyVrE"
      },
      "source": [
        "new_df = df.loc[filter]"
      ],
      "execution_count": null,
      "outputs": []
    },
    {
      "cell_type": "code",
      "metadata": {
        "colab": {
          "base_uri": "https://localhost:8080/",
          "height": 626
        },
        "id": "QldzYU6-yil9",
        "outputId": "772b99a7-98f0-490a-a20a-9447038471dc"
      },
      "source": [
        "new_df"
      ],
      "execution_count": null,
      "outputs": [
        {
          "output_type": "execute_result",
          "data": {
            "text/html": [
              "<div>\n",
              "<style scoped>\n",
              "    .dataframe tbody tr th:only-of-type {\n",
              "        vertical-align: middle;\n",
              "    }\n",
              "\n",
              "    .dataframe tbody tr th {\n",
              "        vertical-align: top;\n",
              "    }\n",
              "\n",
              "    .dataframe thead th {\n",
              "        text-align: right;\n",
              "    }\n",
              "</style>\n",
              "<table border=\"1\" class=\"dataframe\">\n",
              "  <thead>\n",
              "    <tr style=\"text-align: right;\">\n",
              "      <th></th>\n",
              "      <th>Unnamed: 0</th>\n",
              "      <th>id</th>\n",
              "      <th>url</th>\n",
              "      <th>type</th>\n",
              "      <th>age</th>\n",
              "      <th>gender</th>\n",
              "      <th>size</th>\n",
              "      <th>coat</th>\n",
              "      <th>breed</th>\n",
              "      <th>photos</th>\n",
              "      <th>med_photos</th>\n",
              "    </tr>\n",
              "  </thead>\n",
              "  <tbody>\n",
              "    <tr>\n",
              "      <th>8045</th>\n",
              "      <td>8918</td>\n",
              "      <td>46749057</td>\n",
              "      <td>https://www.petfinder.com/cat/midnight-is-magi...</td>\n",
              "      <td>Cat</td>\n",
              "      <td>Baby</td>\n",
              "      <td>Male</td>\n",
              "      <td>Medium</td>\n",
              "      <td>Medium</td>\n",
              "      <td>Bombay</td>\n",
              "      <td>[{'small': 'https://dl5zpyw5k3jeb.cloudfront.n...</td>\n",
              "      <td>['https://dl5zpyw5k3jeb.cloudfront.net/photos/...</td>\n",
              "    </tr>\n",
              "    <tr>\n",
              "      <th>8046</th>\n",
              "      <td>8919</td>\n",
              "      <td>46748774</td>\n",
              "      <td>https://www.petfinder.com/cat/sweetness-sarah-...</td>\n",
              "      <td>Cat</td>\n",
              "      <td>Baby</td>\n",
              "      <td>Female</td>\n",
              "      <td>Medium</td>\n",
              "      <td>Short</td>\n",
              "      <td>Bombay</td>\n",
              "      <td>[{'small': 'https://dl5zpyw5k3jeb.cloudfront.n...</td>\n",
              "      <td>['https://dl5zpyw5k3jeb.cloudfront.net/photos/...</td>\n",
              "    </tr>\n",
              "    <tr>\n",
              "      <th>8047</th>\n",
              "      <td>8920</td>\n",
              "      <td>46748733</td>\n",
              "      <td>https://www.petfinder.com/cat/stella-is-a-star...</td>\n",
              "      <td>Cat</td>\n",
              "      <td>Baby</td>\n",
              "      <td>Female</td>\n",
              "      <td>Medium</td>\n",
              "      <td>Short</td>\n",
              "      <td>Bombay</td>\n",
              "      <td>[{'small': 'https://dl5zpyw5k3jeb.cloudfront.n...</td>\n",
              "      <td>['https://dl5zpyw5k3jeb.cloudfront.net/photos/...</td>\n",
              "    </tr>\n",
              "    <tr>\n",
              "      <th>8048</th>\n",
              "      <td>8921</td>\n",
              "      <td>46732469</td>\n",
              "      <td>https://www.petfinder.com/cat/maggie-46732469/...</td>\n",
              "      <td>Cat</td>\n",
              "      <td>Adult</td>\n",
              "      <td>Female</td>\n",
              "      <td>Large</td>\n",
              "      <td>Short</td>\n",
              "      <td>Bombay</td>\n",
              "      <td>[{'small': 'https://dl5zpyw5k3jeb.cloudfront.n...</td>\n",
              "      <td>['https://dl5zpyw5k3jeb.cloudfront.net/photos/...</td>\n",
              "    </tr>\n",
              "    <tr>\n",
              "      <th>8049</th>\n",
              "      <td>8922</td>\n",
              "      <td>46709293</td>\n",
              "      <td>https://www.petfinder.com/cat/elm-46709293/ny/...</td>\n",
              "      <td>Cat</td>\n",
              "      <td>Baby</td>\n",
              "      <td>Female</td>\n",
              "      <td>Small</td>\n",
              "      <td>Short</td>\n",
              "      <td>Bombay</td>\n",
              "      <td>[{'small': 'https://dl5zpyw5k3jeb.cloudfront.n...</td>\n",
              "      <td>['https://dl5zpyw5k3jeb.cloudfront.net/photos/...</td>\n",
              "    </tr>\n",
              "    <tr>\n",
              "      <th>...</th>\n",
              "      <td>...</td>\n",
              "      <td>...</td>\n",
              "      <td>...</td>\n",
              "      <td>...</td>\n",
              "      <td>...</td>\n",
              "      <td>...</td>\n",
              "      <td>...</td>\n",
              "      <td>...</td>\n",
              "      <td>...</td>\n",
              "      <td>...</td>\n",
              "      <td>...</td>\n",
              "    </tr>\n",
              "    <tr>\n",
              "      <th>53400</th>\n",
              "      <td>56938</td>\n",
              "      <td>19970595</td>\n",
              "      <td>https://www.petfinder.com/cat/sylvia-19970595/...</td>\n",
              "      <td>Cat</td>\n",
              "      <td>Adult</td>\n",
              "      <td>Female</td>\n",
              "      <td>Medium</td>\n",
              "      <td>NaN</td>\n",
              "      <td>Siberian</td>\n",
              "      <td>[{'small': 'https://dl5zpyw5k3jeb.cloudfront.n...</td>\n",
              "      <td>['https://dl5zpyw5k3jeb.cloudfront.net/photos/...</td>\n",
              "    </tr>\n",
              "    <tr>\n",
              "      <th>53401</th>\n",
              "      <td>56939</td>\n",
              "      <td>19954618</td>\n",
              "      <td>https://www.petfinder.com/cat/polly-19954618/k...</td>\n",
              "      <td>Cat</td>\n",
              "      <td>Baby</td>\n",
              "      <td>Female</td>\n",
              "      <td>Large</td>\n",
              "      <td>NaN</td>\n",
              "      <td>Siberian</td>\n",
              "      <td>[{'small': 'https://dl5zpyw5k3jeb.cloudfront.n...</td>\n",
              "      <td>['https://dl5zpyw5k3jeb.cloudfront.net/photos/...</td>\n",
              "    </tr>\n",
              "    <tr>\n",
              "      <th>53402</th>\n",
              "      <td>56940</td>\n",
              "      <td>19940716</td>\n",
              "      <td>https://www.petfinder.com/cat/hannah-19940716/...</td>\n",
              "      <td>Cat</td>\n",
              "      <td>Adult</td>\n",
              "      <td>Female</td>\n",
              "      <td>Large</td>\n",
              "      <td>NaN</td>\n",
              "      <td>Siberian</td>\n",
              "      <td>[{'small': 'https://dl5zpyw5k3jeb.cloudfront.n...</td>\n",
              "      <td>['https://dl5zpyw5k3jeb.cloudfront.net/photos/...</td>\n",
              "    </tr>\n",
              "    <tr>\n",
              "      <th>53403</th>\n",
              "      <td>56941</td>\n",
              "      <td>18935491</td>\n",
              "      <td>https://www.petfinder.com/cat/mr-bojangles-189...</td>\n",
              "      <td>Cat</td>\n",
              "      <td>Young</td>\n",
              "      <td>Male</td>\n",
              "      <td>Extra Large</td>\n",
              "      <td>Long</td>\n",
              "      <td>Siberian</td>\n",
              "      <td>[{'small': 'https://dl5zpyw5k3jeb.cloudfront.n...</td>\n",
              "      <td>['https://dl5zpyw5k3jeb.cloudfront.net/photos/...</td>\n",
              "    </tr>\n",
              "    <tr>\n",
              "      <th>53404</th>\n",
              "      <td>56942</td>\n",
              "      <td>18536346</td>\n",
              "      <td>https://www.petfinder.com/cat/ivan-and-pasha-1...</td>\n",
              "      <td>Cat</td>\n",
              "      <td>Baby</td>\n",
              "      <td>Male</td>\n",
              "      <td>Large</td>\n",
              "      <td>NaN</td>\n",
              "      <td>Siberian</td>\n",
              "      <td>[{'small': 'https://dl5zpyw5k3jeb.cloudfront.n...</td>\n",
              "      <td>['https://dl5zpyw5k3jeb.cloudfront.net/photos/...</td>\n",
              "    </tr>\n",
              "  </tbody>\n",
              "</table>\n",
              "<p>15271 rows × 11 columns</p>\n",
              "</div>"
            ],
            "text/plain": [
              "       Unnamed: 0  ...                                         med_photos\n",
              "8045         8918  ...  ['https://dl5zpyw5k3jeb.cloudfront.net/photos/...\n",
              "8046         8919  ...  ['https://dl5zpyw5k3jeb.cloudfront.net/photos/...\n",
              "8047         8920  ...  ['https://dl5zpyw5k3jeb.cloudfront.net/photos/...\n",
              "8048         8921  ...  ['https://dl5zpyw5k3jeb.cloudfront.net/photos/...\n",
              "8049         8922  ...  ['https://dl5zpyw5k3jeb.cloudfront.net/photos/...\n",
              "...           ...  ...                                                ...\n",
              "53400       56938  ...  ['https://dl5zpyw5k3jeb.cloudfront.net/photos/...\n",
              "53401       56939  ...  ['https://dl5zpyw5k3jeb.cloudfront.net/photos/...\n",
              "53402       56940  ...  ['https://dl5zpyw5k3jeb.cloudfront.net/photos/...\n",
              "53403       56941  ...  ['https://dl5zpyw5k3jeb.cloudfront.net/photos/...\n",
              "53404       56942  ...  ['https://dl5zpyw5k3jeb.cloudfront.net/photos/...\n",
              "\n",
              "[15271 rows x 11 columns]"
            ]
          },
          "metadata": {
            "tags": []
          },
          "execution_count": 11
        }
      ]
    },
    {
      "cell_type": "code",
      "metadata": {
        "id": "D95XNxOByoqw"
      },
      "source": [
        "#new_df.to_csv('/content/drive/MyDrive/Assignment-Cats/Assign-Cat/Data/cat_breed.csv', index = False)"
      ],
      "execution_count": null,
      "outputs": []
    },
    {
      "cell_type": "code",
      "metadata": {
        "id": "oL5Lhu-NzxJg"
      },
      "source": [
        "cat_df = pd.read_csv('/content/drive/MyDrive/Assignment-Cats/Assign-Cat/Data/cat_breed.csv')"
      ],
      "execution_count": null,
      "outputs": []
    },
    {
      "cell_type": "code",
      "metadata": {
        "colab": {
          "base_uri": "https://localhost:8080/"
        },
        "id": "S-zdWe0Gz_kd",
        "outputId": "e7946d58-6335-491f-a60b-8d3fc7aede90"
      },
      "source": [
        "cat_df.info()"
      ],
      "execution_count": null,
      "outputs": [
        {
          "output_type": "stream",
          "text": [
            "<class 'pandas.core.frame.DataFrame'>\n",
            "RangeIndex: 15271 entries, 0 to 15270\n",
            "Data columns (total 11 columns):\n",
            " #   Column      Non-Null Count  Dtype \n",
            "---  ------      --------------  ----- \n",
            " 0   Unnamed: 0  15271 non-null  int64 \n",
            " 1   id          15271 non-null  int64 \n",
            " 2   url         15271 non-null  object\n",
            " 3   type        15271 non-null  object\n",
            " 4   age         15271 non-null  object\n",
            " 5   gender      15271 non-null  object\n",
            " 6   size        15271 non-null  object\n",
            " 7   coat        10351 non-null  object\n",
            " 8   breed       15271 non-null  object\n",
            " 9   photos      15271 non-null  object\n",
            " 10  med_photos  15271 non-null  object\n",
            "dtypes: int64(2), object(9)\n",
            "memory usage: 1.3+ MB\n"
          ],
          "name": "stdout"
        }
      ]
    },
    {
      "cell_type": "code",
      "metadata": {
        "colab": {
          "base_uri": "https://localhost:8080/"
        },
        "id": "bkNl6Mac0NrP",
        "outputId": "84c75124-4ee1-442f-aaef-941a177be117"
      },
      "source": [
        "cat_breed = cat_df['breed'].value_counts()\n",
        "cat_breed"
      ],
      "execution_count": null,
      "outputs": [
        {
          "output_type": "execute_result",
          "data": {
            "text/plain": [
              "Calico               3389\n",
              "Dilute Calico        3212\n",
              "Ragdoll              2656\n",
              "Russian Blue         1842\n",
              "Bombay               1618\n",
              "Himalayan            1285\n",
              "British Shorthair     563\n",
              "Burmese               338\n",
              "Siberian              187\n",
              "Munchkin              181\n",
              "Name: breed, dtype: int64"
            ]
          },
          "metadata": {
            "tags": []
          },
          "execution_count": 16
        }
      ]
    },
    {
      "cell_type": "code",
      "metadata": {
        "colab": {
          "base_uri": "https://localhost:8080/",
          "height": 390
        },
        "id": "vZUec-Cm7lkP",
        "outputId": "340ae113-12e4-4ca5-a369-d00657c46056"
      },
      "source": [
        "cat_breed_df = pd.DataFrame(cat_breed)\n",
        "cat_breed_df.columns = [ 'Count']\n",
        "cat_breed_df.index.names = ['Breed']\n",
        "cat_breed_df"
      ],
      "execution_count": null,
      "outputs": [
        {
          "output_type": "execute_result",
          "data": {
            "text/html": [
              "<div>\n",
              "<style scoped>\n",
              "    .dataframe tbody tr th:only-of-type {\n",
              "        vertical-align: middle;\n",
              "    }\n",
              "\n",
              "    .dataframe tbody tr th {\n",
              "        vertical-align: top;\n",
              "    }\n",
              "\n",
              "    .dataframe thead th {\n",
              "        text-align: right;\n",
              "    }\n",
              "</style>\n",
              "<table border=\"1\" class=\"dataframe\">\n",
              "  <thead>\n",
              "    <tr style=\"text-align: right;\">\n",
              "      <th></th>\n",
              "      <th>Count</th>\n",
              "    </tr>\n",
              "    <tr>\n",
              "      <th>Breed</th>\n",
              "      <th></th>\n",
              "    </tr>\n",
              "  </thead>\n",
              "  <tbody>\n",
              "    <tr>\n",
              "      <th>Calico</th>\n",
              "      <td>3389</td>\n",
              "    </tr>\n",
              "    <tr>\n",
              "      <th>Dilute Calico</th>\n",
              "      <td>3212</td>\n",
              "    </tr>\n",
              "    <tr>\n",
              "      <th>Ragdoll</th>\n",
              "      <td>2656</td>\n",
              "    </tr>\n",
              "    <tr>\n",
              "      <th>Russian Blue</th>\n",
              "      <td>1842</td>\n",
              "    </tr>\n",
              "    <tr>\n",
              "      <th>Bombay</th>\n",
              "      <td>1618</td>\n",
              "    </tr>\n",
              "    <tr>\n",
              "      <th>Himalayan</th>\n",
              "      <td>1285</td>\n",
              "    </tr>\n",
              "    <tr>\n",
              "      <th>British Shorthair</th>\n",
              "      <td>563</td>\n",
              "    </tr>\n",
              "    <tr>\n",
              "      <th>Burmese</th>\n",
              "      <td>338</td>\n",
              "    </tr>\n",
              "    <tr>\n",
              "      <th>Siberian</th>\n",
              "      <td>187</td>\n",
              "    </tr>\n",
              "    <tr>\n",
              "      <th>Munchkin</th>\n",
              "      <td>181</td>\n",
              "    </tr>\n",
              "  </tbody>\n",
              "</table>\n",
              "</div>"
            ],
            "text/plain": [
              "                   Count\n",
              "Breed                   \n",
              "Calico              3389\n",
              "Dilute Calico       3212\n",
              "Ragdoll             2656\n",
              "Russian Blue        1842\n",
              "Bombay              1618\n",
              "Himalayan           1285\n",
              "British Shorthair    563\n",
              "Burmese              338\n",
              "Siberian             187\n",
              "Munchkin             181"
            ]
          },
          "metadata": {
            "tags": []
          },
          "execution_count": 17
        }
      ]
    },
    {
      "cell_type": "code",
      "metadata": {
        "colab": {
          "base_uri": "https://localhost:8080/"
        },
        "id": "1xH3_Y0M_sr_",
        "outputId": "12944b9d-759d-4c74-f895-d016da1c33f9"
      },
      "source": [
        "cat_breed_df['Count'].describe()\n"
      ],
      "execution_count": null,
      "outputs": [
        {
          "output_type": "execute_result",
          "data": {
            "text/plain": [
              "count      10.000000\n",
              "mean     1527.100000\n",
              "std      1233.662699\n",
              "min       181.000000\n",
              "25%       394.250000\n",
              "50%      1451.500000\n",
              "75%      2452.500000\n",
              "max      3389.000000\n",
              "Name: Count, dtype: float64"
            ]
          },
          "metadata": {
            "tags": []
          },
          "execution_count": 18
        }
      ]
    },
    {
      "cell_type": "code",
      "metadata": {
        "colab": {
          "base_uri": "https://localhost:8080/"
        },
        "id": "D-Sr51dopNCw",
        "outputId": "e15c0f39-1b82-4a54-c10c-a337c59c9605"
      },
      "source": [
        "cat_breed_df['Count'].describe(percentiles = [0.35, 0.68, 0.7, 0.8])"
      ],
      "execution_count": null,
      "outputs": [
        {
          "output_type": "execute_result",
          "data": {
            "text/plain": [
              "count      10.000000\n",
              "mean     1527.100000\n",
              "std      1233.662699\n",
              "min       181.000000\n",
              "35%       671.300000\n",
              "50%      1451.500000\n",
              "68%      1939.680000\n",
              "70%      2086.200000\n",
              "80%      2767.200000\n",
              "max      3389.000000\n",
              "Name: Count, dtype: float64"
            ]
          },
          "metadata": {
            "tags": []
          },
          "execution_count": 19
        }
      ]
    },
    {
      "cell_type": "code",
      "metadata": {
        "colab": {
          "base_uri": "https://localhost:8080/"
        },
        "id": "fQyo92wzEL7a",
        "outputId": "e2adeeca-d16d-4065-ef16-cef834da61c8"
      },
      "source": [
        "cat_breed_df.index"
      ],
      "execution_count": null,
      "outputs": [
        {
          "output_type": "execute_result",
          "data": {
            "text/plain": [
              "Index(['Calico', 'Dilute Calico', 'Ragdoll', 'Russian Blue', 'Bombay',\n",
              "       'Himalayan', 'British Shorthair', 'Burmese', 'Siberian', 'Munchkin'],\n",
              "      dtype='object', name='Breed')"
            ]
          },
          "metadata": {
            "tags": []
          },
          "execution_count": 20
        }
      ]
    },
    {
      "cell_type": "code",
      "metadata": {
        "id": "fkmbPez15m9N"
      },
      "source": [
        "import matplotlib.pyplot as plt\n"
      ],
      "execution_count": null,
      "outputs": []
    },
    {
      "cell_type": "code",
      "metadata": {
        "colab": {
          "base_uri": "https://localhost:8080/",
          "height": 483
        },
        "id": "Lh1Dj4DR5qOa",
        "outputId": "3af64d4c-5a76-4591-a34a-db2b9f40e05e"
      },
      "source": [
        "\n",
        "plt.figure(figsize = (14,8))\n",
        "plt.bar(cat_breed_df.index, cat_breed_df['Count'])\n",
        "plt.show()"
      ],
      "execution_count": null,
      "outputs": [
        {
          "output_type": "display_data",
          "data": {
            "image/png": "[encoded data removed]",
            "text/plain": [
              "<Figure size 1008x576 with 1 Axes>"
            ]
          },
          "metadata": {
            "tags": [],
            "needs_background": "light"
          }
        }
      ]
    },
    {
      "cell_type": "code",
      "metadata": {
        "id": "3SeeVkgACgo0"
      },
      "source": [
        ""
      ],
      "execution_count": null,
      "outputs": []
    },
    {
      "cell_type": "code",
      "metadata": {
        "id": "Bjc2nc1poBQ-"
      },
      "source": [
        "import cv2\n",
        "import pandas as pd\n",
        "import numpy as np\n",
        "import seaborn as sns\n",
        "import matplotlib.pyplot as plt\n",
        "import math\n",
        "import shutil\n",
        "\n",
        "%matplotlib inline"
      ],
      "execution_count": null,
      "outputs": []
    },
    {
      "cell_type": "code",
      "metadata": {
        "id": "PQPhbQxhvz4U"
      },
      "source": [
        "from PIL import Image\n",
        "from PIL import ImageFilter\n"
      ],
      "execution_count": null,
      "outputs": []
    },
    {
      "cell_type": "code",
      "metadata": {
        "id": "TWg1N-NeweS7"
      },
      "source": [
        "import sklearn"
      ],
      "execution_count": null,
      "outputs": []
    },
    {
      "cell_type": "code",
      "metadata": {
        "id": "gxUY23rUzUz_"
      },
      "source": [
        "BASE_DIR = '/content/drive/MyDrive/Assignment-Cats'\n"
      ],
      "execution_count": null,
      "outputs": []
    },
    {
      "cell_type": "code",
      "metadata": {
        "colab": {
          "base_uri": "https://localhost:8080/"
        },
        "id": "9iWxt2YIWTEG",
        "outputId": "cb329b57-023e-4b5d-eb9d-260aa8b5bbb7"
      },
      "source": [
        "!ls"
      ],
      "execution_count": null,
      "outputs": [
        {
          "output_type": "stream",
          "text": [
            "Assign-Cat\t\t\t  cats.csv\t newmod_himalayan\n",
            "cat_breed_classification.ipynb\t  Himalayan\t re_images\n",
            "cat-breed-csv-modification.ipynb  new_himalayan  TestandTrain\n"
          ],
          "name": "stdout"
        }
      ]
    },
    {
      "cell_type": "markdown",
      "metadata": {
        "id": "rpC8j-sg83Zg"
      },
      "source": [
        "dividing training and testing data:\n",
        "before upsampling the data ... so That way, the test dataset is as unbiased as it can be and reflect a true evaluation for the model."
      ]
    },
    {
      "cell_type": "code",
      "metadata": {
        "id": "zPTrzzv5LOsL",
        "colab": {
          "base_uri": "https://localhost:8080/"
        },
        "outputId": "c3eeb1ce-1f78-4a8d-c1d4-a4136ccf5a10"
      },
      "source": [
        "!pip install split_folders"
      ],
      "execution_count": null,
      "outputs": [
        {
          "output_type": "stream",
          "text": [
            "Requirement already satisfied: split_folders in /usr/local/lib/python3.7/dist-packages (0.4.3)\n"
          ],
          "name": "stdout"
        }
      ]
    },
    {
      "cell_type": "code",
      "metadata": {
        "id": "CrRj3EEuV9tY",
        "colab": {
          "base_uri": "https://localhost:8080/",
          "height": 52
        },
        "outputId": "2b1acd5d-e5de-4e75-e38c-b618b898c605"
      },
      "source": [
        "\"\"\"import splitfolders\n",
        "input = '/content/drive/MyDrive/Assignment-Cats/Assign-Cat/Images'\n",
        "outputf = '/content/drive/MyDrive/Assignment-Cats/TestandTrain'\n",
        "splitfolders.ratio(input, output = outputf, seed= 1337, ratio= (.9,0,.1))\"\"\""
      ],
      "execution_count": null,
      "outputs": [
        {
          "output_type": "execute_result",
          "data": {
            "application/vnd.google.colaboratory.intrinsic+json": {
              "type": "string"
            },
            "text/plain": [
              "\"import splitfolders\\ninput = '/content/drive/MyDrive/Assignment-Cats/Assign-Cat/Images'\\noutputf = '/content/drive/MyDrive/Assignment-Cats/TestandTrain'\\nsplitfolders.ratio(input, output = outputf, seed= 1337, ratio= (.9,0,.1))\""
            ]
          },
          "metadata": {
            "tags": []
          },
          "execution_count": 29
        }
      ]
    },
    {
      "cell_type": "code",
      "metadata": {
        "id": "4SA5dxA3os9G"
      },
      "source": [
        "import shutil"
      ],
      "execution_count": null,
      "outputs": []
    },
    {
      "cell_type": "code",
      "metadata": {
        "colab": {
          "base_uri": "https://localhost:8080/",
          "height": 52
        },
        "id": "Gpl6jkFa32Ux",
        "outputId": "b9d13b41-1c16-455c-f5f9-3de27dbd9ad7"
      },
      "source": [
        "\"\"\"sourc = '/content/drive/MyDrive/Assignment-Cats/TestandTrain/train'\n",
        "dest = '/content/drive/MyDrive/Assignment-Cats/re_images'\n",
        "shutil.copytree(sourc, dest)\"\"\""
      ],
      "execution_count": null,
      "outputs": [
        {
          "output_type": "execute_result",
          "data": {
            "application/vnd.google.colaboratory.intrinsic+json": {
              "type": "string"
            },
            "text/plain": [
              "\"sourc = '/content/drive/MyDrive/Assignment-Cats/TestandTrain/train'\\ndest = '/content/drive/MyDrive/Assignment-Cats/re_images'\\nshutil.copytree(sourc, dest)\""
            ]
          },
          "metadata": {
            "tags": []
          },
          "execution_count": 31
        }
      ]
    },
    {
      "cell_type": "code",
      "metadata": {
        "id": "0MhVjIeB4h6I"
      },
      "source": [
        "#num_images_now = sum(len(f) for r, d, f in os.walk(os.path.join(BASE_DIR, 're_images')))\n",
        "#num_images_now"
      ],
      "execution_count": null,
      "outputs": []
    },
    {
      "cell_type": "code",
      "metadata": {
        "colab": {
          "base_uri": "https://localhost:8080/",
          "height": 359
        },
        "id": "QiVqW8gOMRlW",
        "outputId": "1f166d5b-9671-42fc-9c7e-ba6fa276c5c1"
      },
      "source": [
        "num_images_list = []\n",
        "breed_list = []\n",
        "\n",
        "for i, (r, d, f) in enumerate(os.walk(os.path.join(BASE_DIR, 're_images'))):\n",
        "  if i == 0:\n",
        "    continue\n",
        "  breed = r.split('/')[-1]\n",
        "  num_images_list.append(len(f))\n",
        "  breed_list.append(breed)\n",
        "\n",
        "\n",
        "count_nb_df = pd.DataFrame(list(zip(breed_list, num_images_list)), columns=['Breeds', 'Count'])\n",
        "count_nb_df\n"
      ],
      "execution_count": null,
      "outputs": [
        {
          "output_type": "execute_result",
          "data": {
            "text/html": [
              "<div>\n",
              "<style scoped>\n",
              "    .dataframe tbody tr th:only-of-type {\n",
              "        vertical-align: middle;\n",
              "    }\n",
              "\n",
              "    .dataframe tbody tr th {\n",
              "        vertical-align: top;\n",
              "    }\n",
              "\n",
              "    .dataframe thead th {\n",
              "        text-align: right;\n",
              "    }\n",
              "</style>\n",
              "<table border=\"1\" class=\"dataframe\">\n",
              "  <thead>\n",
              "    <tr style=\"text-align: right;\">\n",
              "      <th></th>\n",
              "      <th>Breeds</th>\n",
              "      <th>Count</th>\n",
              "    </tr>\n",
              "  </thead>\n",
              "  <tbody>\n",
              "    <tr>\n",
              "      <th>0</th>\n",
              "      <td>Ragdoll</td>\n",
              "      <td>2402</td>\n",
              "    </tr>\n",
              "    <tr>\n",
              "      <th>1</th>\n",
              "      <td>Burmese</td>\n",
              "      <td>3399</td>\n",
              "    </tr>\n",
              "    <tr>\n",
              "      <th>2</th>\n",
              "      <td>Russian Blue</td>\n",
              "      <td>1683</td>\n",
              "    </tr>\n",
              "    <tr>\n",
              "      <th>3</th>\n",
              "      <td>Dilute Calico</td>\n",
              "      <td>2907</td>\n",
              "    </tr>\n",
              "    <tr>\n",
              "      <th>4</th>\n",
              "      <td>British Shorthair</td>\n",
              "      <td>3060</td>\n",
              "    </tr>\n",
              "    <tr>\n",
              "      <th>5</th>\n",
              "      <td>Siberian</td>\n",
              "      <td>1870</td>\n",
              "    </tr>\n",
              "    <tr>\n",
              "      <th>6</th>\n",
              "      <td>Munchkin</td>\n",
              "      <td>1782</td>\n",
              "    </tr>\n",
              "    <tr>\n",
              "      <th>7</th>\n",
              "      <td>Bombay</td>\n",
              "      <td>1651</td>\n",
              "    </tr>\n",
              "    <tr>\n",
              "      <th>8</th>\n",
              "      <td>Calico</td>\n",
              "      <td>3121</td>\n",
              "    </tr>\n",
              "    <tr>\n",
              "      <th>9</th>\n",
              "      <td>Himalayan</td>\n",
              "      <td>2965</td>\n",
              "    </tr>\n",
              "  </tbody>\n",
              "</table>\n",
              "</div>"
            ],
            "text/plain": [
              "              Breeds  Count\n",
              "0            Ragdoll   2402\n",
              "1            Burmese   3399\n",
              "2       Russian Blue   1683\n",
              "3      Dilute Calico   2907\n",
              "4  British Shorthair   3060\n",
              "5           Siberian   1870\n",
              "6           Munchkin   1782\n",
              "7             Bombay   1651\n",
              "8             Calico   3121\n",
              "9          Himalayan   2965"
            ]
          },
          "metadata": {
            "tags": []
          },
          "execution_count": 33
        }
      ]
    },
    {
      "cell_type": "code",
      "metadata": {
        "colab": {
          "base_uri": "https://localhost:8080/",
          "height": 297
        },
        "id": "ID-wObUJOA5V",
        "outputId": "e564043d-2543-4fee-e2e8-0184f2a3964f"
      },
      "source": [
        "count_nb_df.describe(percentiles=[.25, .50, .65])"
      ],
      "execution_count": null,
      "outputs": [
        {
          "output_type": "execute_result",
          "data": {
            "text/html": [
              "<div>\n",
              "<style scoped>\n",
              "    .dataframe tbody tr th:only-of-type {\n",
              "        vertical-align: middle;\n",
              "    }\n",
              "\n",
              "    .dataframe tbody tr th {\n",
              "        vertical-align: top;\n",
              "    }\n",
              "\n",
              "    .dataframe thead th {\n",
              "        text-align: right;\n",
              "    }\n",
              "</style>\n",
              "<table border=\"1\" class=\"dataframe\">\n",
              "  <thead>\n",
              "    <tr style=\"text-align: right;\">\n",
              "      <th></th>\n",
              "      <th>Count</th>\n",
              "    </tr>\n",
              "  </thead>\n",
              "  <tbody>\n",
              "    <tr>\n",
              "      <th>count</th>\n",
              "      <td>10.000000</td>\n",
              "    </tr>\n",
              "    <tr>\n",
              "      <th>mean</th>\n",
              "      <td>2484.000000</td>\n",
              "    </tr>\n",
              "    <tr>\n",
              "      <th>std</th>\n",
              "      <td>682.892053</td>\n",
              "    </tr>\n",
              "    <tr>\n",
              "      <th>min</th>\n",
              "      <td>1651.000000</td>\n",
              "    </tr>\n",
              "    <tr>\n",
              "      <th>25%</th>\n",
              "      <td>1804.000000</td>\n",
              "    </tr>\n",
              "    <tr>\n",
              "      <th>50%</th>\n",
              "      <td>2654.500000</td>\n",
              "    </tr>\n",
              "    <tr>\n",
              "      <th>65%</th>\n",
              "      <td>2956.300000</td>\n",
              "    </tr>\n",
              "    <tr>\n",
              "      <th>max</th>\n",
              "      <td>3399.000000</td>\n",
              "    </tr>\n",
              "  </tbody>\n",
              "</table>\n",
              "</div>"
            ],
            "text/plain": [
              "             Count\n",
              "count    10.000000\n",
              "mean   2484.000000\n",
              "std     682.892053\n",
              "min    1651.000000\n",
              "25%    1804.000000\n",
              "50%    2654.500000\n",
              "65%    2956.300000\n",
              "max    3399.000000"
            ]
          },
          "metadata": {
            "tags": []
          },
          "execution_count": 34
        }
      ]
    },
    {
      "cell_type": "code",
      "metadata": {
        "colab": {
          "base_uri": "https://localhost:8080/",
          "height": 483
        },
        "id": "x9fv1RanOQKZ",
        "outputId": "bb149896-ddfb-4b59-b7a0-dcf98c5ba967"
      },
      "source": [
        "plt.figure(figsize=(14,8))\n",
        "plt.bar(count_nb_df['Breeds'], count_nb_df['Count'])\n",
        "plt.show()"
      ],
      "execution_count": null,
      "outputs": [
        {
          "output_type": "display_data",
          "data": {
            "image/png": "[encoded data removed]",
            "text/plain": [
              "<Figure size 1008x576 with 1 Axes>"
            ]
          },
          "metadata": {
            "tags": [],
            "needs_background": "light"
          }
        }
      ]
    },
    {
      "cell_type": "code",
      "metadata": {
        "colab": {
          "base_uri": "https://localhost:8080/"
        },
        "id": "mdWM2R45Owjf",
        "outputId": "63f2e61b-9f16-4fa0-8163-a394cccb7e42"
      },
      "source": [
        "t25list = count_nb_df[count_nb_df['Count'] <= 360 ].Breeds\n",
        "t50list = count_nb_df[(count_nb_df['Count'] >= 361) & (count_nb_df['Count'] <= 1411)].Breeds\n",
        "\n",
        "print(t25list)\n",
        "print('--------------')\n",
        "print(t50list)"
      ],
      "execution_count": null,
      "outputs": [
        {
          "output_type": "stream",
          "text": [
            "Series([], Name: Breeds, dtype: object)\n",
            "--------------\n",
            "Series([], Name: Breeds, dtype: object)\n"
          ],
          "name": "stdout"
        }
      ]
    },
    {
      "cell_type": "code",
      "metadata": {
        "id": "PlNoISMSYRRt"
      },
      "source": [
        "from PIL import Image\n",
        "from PIL import ImageFilter"
      ],
      "execution_count": null,
      "outputs": []
    },
    {
      "cell_type": "code",
      "metadata": {
        "id": "c8fLyzPBWX9l"
      },
      "source": [
        "\"\"\"num_img_list = []\n",
        "\n",
        "for breed in t25list:\n",
        "  folder_dir = os.path.join(BASE_DIR, f're_images/{breed}')\n",
        "  file_list = os.listdir(folder_dir)\n",
        "  for count in range(0,2):\n",
        "    for imagefile in file_list:\n",
        "      file_dir = os.path.join(folder_dir, imagefile)\n",
        "      img = Image.open(file_dir)\n",
        "      img = img.convert(\"RGB\")\n",
        "      r, g, b = img.split()\n",
        "\n",
        "      r = r.convert(\"RGB\")\n",
        "      g = g.convert(\"RGB\")\n",
        "      b = b.convert(\"RGB\")\n",
        "      img_blur = img.filter(ImageFilter.GaussianBlur)\n",
        "      img_unsharp = img.filter(ImageFilter.UnsharpMask)\n",
        "\n",
        "      r.save(os.path.join(folder_dir, (str(count) + 'r_' + imagefile)))\n",
        "      g.save(os.path.join(folder_dir, (str(count) + 'g_' + imagefile)))\n",
        "      b.save(os.path.join(folder_dir, (str(count) + 'b_' + imagefile)))\n",
        "      img_blur.save(os.path.join(folder_dir, (str(count) + 'blur_' + imagefile)))\n",
        "      img_unsharp.save(os.path.join(folder_dir, (str(count) + 'un_' + imagefile)))\n",
        "\n",
        "    num_images = len(os.listdir(folder_dir))\n",
        "    print(f'number of images in {breed} folder : {num_images}')\n",
        "\n",
        "  num_img_list.append((breed, num_images))\n",
        "\n",
        "\n",
        "for breed in t50list:\n",
        "  folder_dir = os.path.join(BASE_DIR, f're_images/{breed}')\n",
        "  file_list = os.listdir(folder_dir)\n",
        "  for count in range(0,1):\n",
        "    for imagefile in file_list:\n",
        "      file_dir = os.path.join(folder_dir, imagefile)\n",
        "      img = Image.open(file_dir)\n",
        "      img = img.convert(\"RGB\")\n",
        "      r, g, b = img.split()\n",
        "\n",
        "      r = r.convert(\"RGB\")\n",
        "      g = g.convert(\"RGB\")\n",
        "      b = b.convert(\"RGB\")\n",
        "      img_blur = img.filter(ImageFilter.GaussianBlur)\n",
        "      img_unsharp = img.filter(ImageFilter.UnsharpMask)\n",
        "\n",
        "      r.save(os.path.join(folder_dir, (str(count) + 'r_' + imagefile)))\n",
        "      g.save(os.path.join(folder_dir, (str(count) + 'g_' + imagefile)))\n",
        "      b.save(os.path.join(folder_dir, (str(count) + 'b_' + imagefile)))\n",
        "      img_blur.save(os.path.join(folder_dir, (str(count) + 'blur_' + imagefile)))\n",
        "      img_unsharp.save(os.path.join(folder_dir, (str(count) + 'un_' + imagefile)))\n",
        "\n",
        "    num_images = len(os.listdir(folder_dir))\n",
        "    print(f'number of images in {breed} folder : {num_images} ')\n",
        "\n",
        "  num_img_list.append((breed, num_images))\n",
        "\n",
        "count_mb_df = pd.DataFrame(data= num_img_list, columns=['Breeds', 'Count'])\n",
        "\n",
        "plt.figure(figsize=(14, 8))\n",
        "plt.bar(count_mb_df['Breeds'], count_mb_df['Count'])\n",
        "plt.show()\n",
        "\n",
        "\"\"\""
      ],
      "execution_count": null,
      "outputs": []
    },
    {
      "cell_type": "code",
      "metadata": {
        "id": "_F_Y0v5Zinnp"
      },
      "source": [
        "\"\"\"count_nb_df = count_nb_df.sort_values(by=['Breeds'])\n",
        "count_mb_df = count_mb_df.sort_values(by=['Breeds'])\n",
        "\n",
        "\n",
        "count_nb_df.update(count_mb_df)\n",
        "\n",
        "plt.figure(figsize=(14, 8))\n",
        "plt.bar(count_nb_df['Breeds'], count_nb_df['Count'])\n",
        "plt.show()\"\"\""
      ],
      "execution_count": null,
      "outputs": []
    },
    {
      "cell_type": "code",
      "metadata": {
        "id": "o02SoUgboKYp"
      },
      "source": [
        ""
      ],
      "execution_count": null,
      "outputs": []
    },
    {
      "cell_type": "code",
      "metadata": {
        "id": "p8-6vXOQxesC"
      },
      "source": [
        "import random\n"
      ],
      "execution_count": null,
      "outputs": []
    },
    {
      "cell_type": "code",
      "metadata": {
        "id": "G9m8-pvK4p4x"
      },
      "source": [
        "\"\"\"from pathlib import Path\n",
        "import random\n",
        "\n",
        "def delete_images(directory, number_of_images, extension='jpg'):\n",
        "    images = Path(directory).glob(f'*.{extension}')\n",
        "    for image in random.sample(list(images), number_of_images):\n",
        "        image.unlink()\n",
        "\n",
        "delete_images(path_req, 4000)\"\"\"\n"
      ],
      "execution_count": null,
      "outputs": []
    },
    {
      "cell_type": "code",
      "metadata": {
        "id": "OF6vi3NzERwI"
      },
      "source": [
        "\"\"\"train_img_list = []\n",
        "breed_name = []\n",
        "\n",
        "for i, (r, d, f) in enumerate(os.walk(os.path.join(BASE_DIR, 're_images'))):\n",
        "  if i == 0:\n",
        "    continue\n",
        "  breed_ = r.split('/')[-1]\n",
        "  train_img_list.append(len(f))\n",
        "  breed_name.append(breed_)\n",
        "\n",
        "train_count_df = pd.DataFrame(list(zip(breed_name, train_img_list)), columns=['Breed', 'Count'])\n",
        "\n",
        "plt.figure(figsize=(14,8))\n",
        "plt.bar(train_count_df['Breed'], train_count_df['Count'])\n",
        "plt.show()\n",
        "\"\"\"\n"
      ],
      "execution_count": null,
      "outputs": []
    },
    {
      "cell_type": "code",
      "metadata": {
        "id": "tf5gdqbKGbi1"
      },
      "source": [
        "xyz = cv2.imread('/content/drive/MyDrive/Assignment-Cats/re_images/Bombay/6426036_9709.jpg')"
      ],
      "execution_count": null,
      "outputs": []
    },
    {
      "cell_type": "code",
      "metadata": {
        "colab": {
          "base_uri": "https://localhost:8080/"
        },
        "id": "DJUIGyBtHuep",
        "outputId": "a08cf0d6-1615-4d2f-8c57-fbc5625734fc"
      },
      "source": [
        "xyz.shape"
      ],
      "execution_count": null,
      "outputs": [
        {
          "output_type": "execute_result",
          "data": {
            "text/plain": [
              "(260, 300, 3)"
            ]
          },
          "metadata": {
            "tags": []
          },
          "execution_count": 48
        }
      ]
    },
    {
      "cell_type": "code",
      "metadata": {
        "id": "sqXvdnCHH7cy"
      },
      "source": [
        "\n",
        "\n",
        "batch_size = 32"
      ],
      "execution_count": null,
      "outputs": []
    },
    {
      "cell_type": "code",
      "metadata": {
        "id": "aUi5ah3IIVZO"
      },
      "source": [
        "import tensorflow as tf\n",
        "\n",
        "from keras.preprocessing import image\n",
        "from tensorflow.keras.preprocessing.image import ImageDataGenerator\n"
      ],
      "execution_count": null,
      "outputs": []
    },
    {
      "cell_type": "code",
      "metadata": {
        "id": "TweXNTWpR0CV"
      },
      "source": [
        "\n",
        "image_datagen = ImageDataGenerator(\n",
        "    rescale=1./255,\n",
        "    rotation_range = 30,\n",
        "    width_shift_range = 0.2,\n",
        "    height_shift_range = 0.2,\n",
        "    shear_range = 0.2,\n",
        "    zoom_range = 0.2,\n",
        "    horizontal_flip = True,\n",
        "    fill_mode = 'nearest',\n",
        "    validation_split = 0.2\n",
        "\n",
        ")\n"
      ],
      "execution_count": null,
      "outputs": []
    },
    {
      "cell_type": "code",
      "metadata": {
        "id": "c4YAc0qAbj6w"
      },
      "source": [
        "dir = '/content/drive/MyDrive/Assignment-Cats/re_images'\n",
        "#train_dir = '/content/drive/MyDrive/Assignment-Cats/trainingData'\n",
        "#val_dir = '/content/drive/MyDrive/Assignment-Cats/validationData'"
      ],
      "execution_count": null,
      "outputs": []
    },
    {
      "cell_type": "code",
      "metadata": {
        "colab": {
          "base_uri": "https://localhost:8080/"
        },
        "id": "W86KbZZ2b3z6",
        "outputId": "091798f8-717d-4ef2-edde-ea0a8c26ef5c"
      },
      "source": [
        "\n",
        "training_set = image_datagen.flow_from_directory(\n",
        "    dir,\n",
        "    target_size = (img_width, img_height),\n",
        "    batch_size = batch_size,\n",
        "    class_mode = 'categorical',\n",
        "    subset = \"training\",\n",
        "    shuffle = False\n",
        "\n",
        ")\n",
        "\n",
        "validation_set = image_datagen.flow_from_directory(\n",
        "    dir,\n",
        "    target_size = (img_width, img_height),\n",
        "    batch_size = batch_size,\n",
        "    class_mode = 'categorical',\n",
        "    subset = \"validation\",\n",
        "    shuffle = False\n",
        "\n",
        "\n",
        ")\n"
      ],
      "execution_count": null,
      "outputs": [
        {
          "output_type": "stream",
          "text": [
            "Found 19875 images belonging to 10 classes.\n",
            "Found 4965 images belonging to 10 classes.\n"
          ],
          "name": "stdout"
        }
      ]
    },
    {
      "cell_type": "code",
      "metadata": {
        "id": "TlpHJ59JEDNn"
      },
      "source": [
        "import tensorflow as tf\n",
        "from tensorflow import keras\n",
        "from tensorflow.keras.models import Sequential, Model, save_model, load_model\n",
        "from tensorflow.keras.layers import Conv2D, Dense, Flatten, Dropout\n",
        "from tensorflow.keras.optimizers import RMSprop, Adam\n"
      ],
      "execution_count": null,
      "outputs": []
    },
    {
      "cell_type": "code",
      "metadata": {
        "id": "H1kFsgL7IXsr"
      },
      "source": [
        "from tensorflow.keras.applications.inception_v3 import InceptionV3\n"
      ],
      "execution_count": null,
      "outputs": []
    },
    {
      "cell_type": "code",
      "metadata": {
        "id": "_tK3UquXIjje"
      },
      "source": [
        "model = InceptionV3(input_shape= img_shape, include_top=False, weights='imagenet')"
      ],
      "execution_count": null,
      "outputs": []
    },
    {
      "cell_type": "code",
      "metadata": {
        "id": "W2S2xhXvKXDj"
      },
      "source": [
        "\n",
        "for layer in model.layers:\n",
        "  layer.trainable = False\n"
      ],
      "execution_count": null,
      "outputs": []
    },
    {
      "cell_type": "code",
      "metadata": {
        "id": "p9kp06PBX3N_"
      },
      "source": [
        "\n",
        "class myCallback(tf.keras.callbacks.Callback):\n",
        "  def on_epoch_end(self, epoch, logs={}):\n",
        "    if logs.get('accuracy') > 0.959:\n",
        "      print('\\nreached 99% accuracy so stopped training')\n",
        "      self.model.stop_training = True\n"
      ],
      "execution_count": null,
      "outputs": []
    },
    {
      "cell_type": "code",
      "metadata": {
        "id": "e_lf1HkLKomB",
        "colab": {
          "base_uri": "https://localhost:8080/"
        },
        "outputId": "c3ab61f8-d256-4310-d7b9-0eef40f6370b"
      },
      "source": [
        "\n",
        "x = Flatten()(model.output)\n",
        "x = Dense(1024, activation= 'relu')(x)\n",
        "\n",
        "x = Dense(512, activation='relu')(x)\n",
        "output = Dense(10, activation='softmax')(x)\n",
        "final_model = Model(inputs=model.input, outputs=output)\n",
        "final_model.compile(loss='categorical_crossentropy', optimizer= RMSprop(learning_rate=0.001), metrics=['accuracy'])\n",
        "final_model.summary()\n"
      ],
      "execution_count": null,
      "outputs": [
        {
          "output_type": "stream",
          "text": [
            "Model: \"model_2\"\n",
            "__________________________________________________________________________________________________\n",
            "Layer (type)                    Output Shape         Param #     Connected to                     \n",
            "==================================================================================================\n",
            "input_3 (InputLayer)            [(None, 224, 224, 3) 0                                            \n",
            "__________________________________________________________________________________________________\n",
            "conv2d_188 (Conv2D)             (None, 111, 111, 32) 864         input_3[0][0]                    \n",
            "__________________________________________________________________________________________________\n",
            "batch_normalization_188 (BatchN (None, 111, 111, 32) 96          conv2d_188[0][0]                 \n",
            "__________________________________________________________________________________________________\n",
            "activation_188 (Activation)     (None, 111, 111, 32) 0           batch_normalization_188[0][0]    \n",
            "__________________________________________________________________________________________________\n",
            "conv2d_189 (Conv2D)             (None, 109, 109, 32) 9216        activation_188[0][0]             \n",
            "__________________________________________________________________________________________________\n",
            "batch_normalization_189 (BatchN (None, 109, 109, 32) 96          conv2d_189[0][0]                 \n",
            "__________________________________________________________________________________________________\n",
            "activation_189 (Activation)     (None, 109, 109, 32) 0           batch_normalization_189[0][0]    \n",
            "__________________________________________________________________________________________________\n",
            "conv2d_190 (Conv2D)             (None, 109, 109, 64) 18432       activation_189[0][0]             \n",
            "__________________________________________________________________________________________________\n",
            "batch_normalization_190 (BatchN (None, 109, 109, 64) 192         conv2d_190[0][0]                 \n",
            "__________________________________________________________________________________________________\n",
            "activation_190 (Activation)     (None, 109, 109, 64) 0           batch_normalization_190[0][0]    \n",
            "__________________________________________________________________________________________________\n",
            "max_pooling2d_8 (MaxPooling2D)  (None, 54, 54, 64)   0           activation_190[0][0]             \n",
            "__________________________________________________________________________________________________\n",
            "conv2d_191 (Conv2D)             (None, 54, 54, 80)   5120        max_pooling2d_8[0][0]            \n",
            "__________________________________________________________________________________________________\n",
            "batch_normalization_191 (BatchN (None, 54, 54, 80)   240         conv2d_191[0][0]                 \n",
            "__________________________________________________________________________________________________\n",
            "activation_191 (Activation)     (None, 54, 54, 80)   0           batch_normalization_191[0][0]    \n",
            "__________________________________________________________________________________________________\n",
            "conv2d_192 (Conv2D)             (None, 52, 52, 192)  138240      activation_191[0][0]             \n",
            "__________________________________________________________________________________________________\n",
            "batch_normalization_192 (BatchN (None, 52, 52, 192)  576         conv2d_192[0][0]                 \n",
            "__________________________________________________________________________________________________\n",
            "activation_192 (Activation)     (None, 52, 52, 192)  0           batch_normalization_192[0][0]    \n",
            "__________________________________________________________________________________________________\n",
            "max_pooling2d_9 (MaxPooling2D)  (None, 25, 25, 192)  0           activation_192[0][0]             \n",
            "__________________________________________________________________________________________________\n",
            "conv2d_196 (Conv2D)             (None, 25, 25, 64)   12288       max_pooling2d_9[0][0]            \n",
            "__________________________________________________________________________________________________\n",
            "batch_normalization_196 (BatchN (None, 25, 25, 64)   192         conv2d_196[0][0]                 \n",
            "__________________________________________________________________________________________________\n",
            "activation_196 (Activation)     (None, 25, 25, 64)   0           batch_normalization_196[0][0]    \n",
            "__________________________________________________________________________________________________\n",
            "conv2d_194 (Conv2D)             (None, 25, 25, 48)   9216        max_pooling2d_9[0][0]            \n",
            "__________________________________________________________________________________________________\n",
            "conv2d_197 (Conv2D)             (None, 25, 25, 96)   55296       activation_196[0][0]             \n",
            "__________________________________________________________________________________________________\n",
            "batch_normalization_194 (BatchN (None, 25, 25, 48)   144         conv2d_194[0][0]                 \n",
            "__________________________________________________________________________________________________\n",
            "batch_normalization_197 (BatchN (None, 25, 25, 96)   288         conv2d_197[0][0]                 \n",
            "__________________________________________________________________________________________________\n",
            "activation_194 (Activation)     (None, 25, 25, 48)   0           batch_normalization_194[0][0]    \n",
            "__________________________________________________________________________________________________\n",
            "activation_197 (Activation)     (None, 25, 25, 96)   0           batch_normalization_197[0][0]    \n",
            "__________________________________________________________________________________________________\n",
            "average_pooling2d_18 (AveragePo (None, 25, 25, 192)  0           max_pooling2d_9[0][0]            \n",
            "__________________________________________________________________________________________________\n",
            "conv2d_193 (Conv2D)             (None, 25, 25, 64)   12288       max_pooling2d_9[0][0]            \n",
            "__________________________________________________________________________________________________\n",
            "conv2d_195 (Conv2D)             (None, 25, 25, 64)   76800       activation_194[0][0]             \n",
            "__________________________________________________________________________________________________\n",
            "conv2d_198 (Conv2D)             (None, 25, 25, 96)   82944       activation_197[0][0]             \n",
            "__________________________________________________________________________________________________\n",
            "conv2d_199 (Conv2D)             (None, 25, 25, 32)   6144        average_pooling2d_18[0][0]       \n",
            "__________________________________________________________________________________________________\n",
            "batch_normalization_193 (BatchN (None, 25, 25, 64)   192         conv2d_193[0][0]                 \n",
            "__________________________________________________________________________________________________\n",
            "batch_normalization_195 (BatchN (None, 25, 25, 64)   192         conv2d_195[0][0]                 \n",
            "__________________________________________________________________________________________________\n",
            "batch_normalization_198 (BatchN (None, 25, 25, 96)   288         conv2d_198[0][0]                 \n",
            "__________________________________________________________________________________________________\n",
            "batch_normalization_199 (BatchN (None, 25, 25, 32)   96          conv2d_199[0][0]                 \n",
            "__________________________________________________________________________________________________\n",
            "activation_193 (Activation)     (None, 25, 25, 64)   0           batch_normalization_193[0][0]    \n",
            "__________________________________________________________________________________________________\n",
            "activation_195 (Activation)     (None, 25, 25, 64)   0           batch_normalization_195[0][0]    \n",
            "__________________________________________________________________________________________________\n",
            "activation_198 (Activation)     (None, 25, 25, 96)   0           batch_normalization_198[0][0]    \n",
            "__________________________________________________________________________________________________\n",
            "activation_199 (Activation)     (None, 25, 25, 32)   0           batch_normalization_199[0][0]    \n",
            "__________________________________________________________________________________________________\n",
            "mixed0 (Concatenate)            (None, 25, 25, 256)  0           activation_193[0][0]             \n",
            "                                                                 activation_195[0][0]             \n",
            "                                                                 activation_198[0][0]             \n",
            "                                                                 activation_199[0][0]             \n",
            "__________________________________________________________________________________________________\n",
            "conv2d_203 (Conv2D)             (None, 25, 25, 64)   16384       mixed0[0][0]                     \n",
            "__________________________________________________________________________________________________\n",
            "batch_normalization_203 (BatchN (None, 25, 25, 64)   192         conv2d_203[0][0]                 \n",
            "__________________________________________________________________________________________________\n",
            "activation_203 (Activation)     (None, 25, 25, 64)   0           batch_normalization_203[0][0]    \n",
            "__________________________________________________________________________________________________\n",
            "conv2d_201 (Conv2D)             (None, 25, 25, 48)   12288       mixed0[0][0]                     \n",
            "__________________________________________________________________________________________________\n",
            "conv2d_204 (Conv2D)             (None, 25, 25, 96)   55296       activation_203[0][0]             \n",
            "__________________________________________________________________________________________________\n",
            "batch_normalization_201 (BatchN (None, 25, 25, 48)   144         conv2d_201[0][0]                 \n",
            "__________________________________________________________________________________________________\n",
            "batch_normalization_204 (BatchN (None, 25, 25, 96)   288         conv2d_204[0][0]                 \n",
            "__________________________________________________________________________________________________\n",
            "activation_201 (Activation)     (None, 25, 25, 48)   0           batch_normalization_201[0][0]    \n",
            "__________________________________________________________________________________________________\n",
            "activation_204 (Activation)     (None, 25, 25, 96)   0           batch_normalization_204[0][0]    \n",
            "__________________________________________________________________________________________________\n",
            "average_pooling2d_19 (AveragePo (None, 25, 25, 256)  0           mixed0[0][0]                     \n",
            "__________________________________________________________________________________________________\n",
            "conv2d_200 (Conv2D)             (None, 25, 25, 64)   16384       mixed0[0][0]                     \n",
            "__________________________________________________________________________________________________\n",
            "conv2d_202 (Conv2D)             (None, 25, 25, 64)   76800       activation_201[0][0]             \n",
            "__________________________________________________________________________________________________\n",
            "conv2d_205 (Conv2D)             (None, 25, 25, 96)   82944       activation_204[0][0]             \n",
            "__________________________________________________________________________________________________\n",
            "conv2d_206 (Conv2D)             (None, 25, 25, 64)   16384       average_pooling2d_19[0][0]       \n",
            "__________________________________________________________________________________________________\n",
            "batch_normalization_200 (BatchN (None, 25, 25, 64)   192         conv2d_200[0][0]                 \n",
            "__________________________________________________________________________________________________\n",
            "batch_normalization_202 (BatchN (None, 25, 25, 64)   192         conv2d_202[0][0]                 \n",
            "__________________________________________________________________________________________________\n",
            "batch_normalization_205 (BatchN (None, 25, 25, 96)   288         conv2d_205[0][0]                 \n",
            "__________________________________________________________________________________________________\n",
            "batch_normalization_206 (BatchN (None, 25, 25, 64)   192         conv2d_206[0][0]                 \n",
            "__________________________________________________________________________________________________\n",
            "activation_200 (Activation)     (None, 25, 25, 64)   0           batch_normalization_200[0][0]    \n",
            "__________________________________________________________________________________________________\n",
            "activation_202 (Activation)     (None, 25, 25, 64)   0           batch_normalization_202[0][0]    \n",
            "__________________________________________________________________________________________________\n",
            "activation_205 (Activation)     (None, 25, 25, 96)   0           batch_normalization_205[0][0]    \n",
            "__________________________________________________________________________________________________\n",
            "activation_206 (Activation)     (None, 25, 25, 64)   0           batch_normalization_206[0][0]    \n",
            "__________________________________________________________________________________________________\n",
            "mixed1 (Concatenate)            (None, 25, 25, 288)  0           activation_200[0][0]             \n",
            "                                                                 activation_202[0][0]             \n",
            "                                                                 activation_205[0][0]             \n",
            "                                                                 activation_206[0][0]             \n",
            "__________________________________________________________________________________________________\n",
            "conv2d_210 (Conv2D)             (None, 25, 25, 64)   18432       mixed1[0][0]                     \n",
            "__________________________________________________________________________________________________\n",
            "batch_normalization_210 (BatchN (None, 25, 25, 64)   192         conv2d_210[0][0]                 \n",
            "__________________________________________________________________________________________________\n",
            "activation_210 (Activation)     (None, 25, 25, 64)   0           batch_normalization_210[0][0]    \n",
            "__________________________________________________________________________________________________\n",
            "conv2d_208 (Conv2D)             (None, 25, 25, 48)   13824       mixed1[0][0]                     \n",
            "__________________________________________________________________________________________________\n",
            "conv2d_211 (Conv2D)             (None, 25, 25, 96)   55296       activation_210[0][0]             \n",
            "__________________________________________________________________________________________________\n",
            "batch_normalization_208 (BatchN (None, 25, 25, 48)   144         conv2d_208[0][0]                 \n",
            "__________________________________________________________________________________________________\n",
            "batch_normalization_211 (BatchN (None, 25, 25, 96)   288         conv2d_211[0][0]                 \n",
            "__________________________________________________________________________________________________\n",
            "activation_208 (Activation)     (None, 25, 25, 48)   0           batch_normalization_208[0][0]    \n",
            "__________________________________________________________________________________________________\n",
            "activation_211 (Activation)     (None, 25, 25, 96)   0           batch_normalization_211[0][0]    \n",
            "__________________________________________________________________________________________________\n",
            "average_pooling2d_20 (AveragePo (None, 25, 25, 288)  0           mixed1[0][0]                     \n",
            "__________________________________________________________________________________________________\n",
            "conv2d_207 (Conv2D)             (None, 25, 25, 64)   18432       mixed1[0][0]                     \n",
            "__________________________________________________________________________________________________\n",
            "conv2d_209 (Conv2D)             (None, 25, 25, 64)   76800       activation_208[0][0]             \n",
            "__________________________________________________________________________________________________\n",
            "conv2d_212 (Conv2D)             (None, 25, 25, 96)   82944       activation_211[0][0]             \n",
            "__________________________________________________________________________________________________\n",
            "conv2d_213 (Conv2D)             (None, 25, 25, 64)   18432       average_pooling2d_20[0][0]       \n",
            "__________________________________________________________________________________________________\n",
            "batch_normalization_207 (BatchN (None, 25, 25, 64)   192         conv2d_207[0][0]                 \n",
            "__________________________________________________________________________________________________\n",
            "batch_normalization_209 (BatchN (None, 25, 25, 64)   192         conv2d_209[0][0]                 \n",
            "__________________________________________________________________________________________________\n",
            "batch_normalization_212 (BatchN (None, 25, 25, 96)   288         conv2d_212[0][0]                 \n",
            "__________________________________________________________________________________________________\n",
            "batch_normalization_213 (BatchN (None, 25, 25, 64)   192         conv2d_213[0][0]                 \n",
            "__________________________________________________________________________________________________\n",
            "activation_207 (Activation)     (None, 25, 25, 64)   0           batch_normalization_207[0][0]    \n",
            "__________________________________________________________________________________________________\n",
            "activation_209 (Activation)     (None, 25, 25, 64)   0           batch_normalization_209[0][0]    \n",
            "__________________________________________________________________________________________________\n",
            "activation_212 (Activation)     (None, 25, 25, 96)   0           batch_normalization_212[0][0]    \n",
            "__________________________________________________________________________________________________\n",
            "activation_213 (Activation)     (None, 25, 25, 64)   0           batch_normalization_213[0][0]    \n",
            "__________________________________________________________________________________________________\n",
            "mixed2 (Concatenate)            (None, 25, 25, 288)  0           activation_207[0][0]             \n",
            "                                                                 activation_209[0][0]             \n",
            "                                                                 activation_212[0][0]             \n",
            "                                                                 activation_213[0][0]             \n",
            "__________________________________________________________________________________________________\n",
            "conv2d_215 (Conv2D)             (None, 25, 25, 64)   18432       mixed2[0][0]                     \n",
            "__________________________________________________________________________________________________\n",
            "batch_normalization_215 (BatchN (None, 25, 25, 64)   192         conv2d_215[0][0]                 \n",
            "__________________________________________________________________________________________________\n",
            "activation_215 (Activation)     (None, 25, 25, 64)   0           batch_normalization_215[0][0]    \n",
            "__________________________________________________________________________________________________\n",
            "conv2d_216 (Conv2D)             (None, 25, 25, 96)   55296       activation_215[0][0]             \n",
            "__________________________________________________________________________________________________\n",
            "batch_normalization_216 (BatchN (None, 25, 25, 96)   288         conv2d_216[0][0]                 \n",
            "__________________________________________________________________________________________________\n",
            "activation_216 (Activation)     (None, 25, 25, 96)   0           batch_normalization_216[0][0]    \n",
            "__________________________________________________________________________________________________\n",
            "conv2d_214 (Conv2D)             (None, 12, 12, 384)  995328      mixed2[0][0]                     \n",
            "__________________________________________________________________________________________________\n",
            "conv2d_217 (Conv2D)             (None, 12, 12, 96)   82944       activation_216[0][0]             \n",
            "__________________________________________________________________________________________________\n",
            "batch_normalization_214 (BatchN (None, 12, 12, 384)  1152        conv2d_214[0][0]                 \n",
            "__________________________________________________________________________________________________\n",
            "batch_normalization_217 (BatchN (None, 12, 12, 96)   288         conv2d_217[0][0]                 \n",
            "__________________________________________________________________________________________________\n",
            "activation_214 (Activation)     (None, 12, 12, 384)  0           batch_normalization_214[0][0]    \n",
            "__________________________________________________________________________________________________\n",
            "activation_217 (Activation)     (None, 12, 12, 96)   0           batch_normalization_217[0][0]    \n",
            "__________________________________________________________________________________________________\n",
            "max_pooling2d_10 (MaxPooling2D) (None, 12, 12, 288)  0           mixed2[0][0]                     \n",
            "__________________________________________________________________________________________________\n",
            "mixed3 (Concatenate)            (None, 12, 12, 768)  0           activation_214[0][0]             \n",
            "                                                                 activation_217[0][0]             \n",
            "                                                                 max_pooling2d_10[0][0]           \n",
            "__________________________________________________________________________________________________\n",
            "conv2d_222 (Conv2D)             (None, 12, 12, 128)  98304       mixed3[0][0]                     \n",
            "__________________________________________________________________________________________________\n",
            "batch_normalization_222 (BatchN (None, 12, 12, 128)  384         conv2d_222[0][0]                 \n",
            "__________________________________________________________________________________________________\n",
            "activation_222 (Activation)     (None, 12, 12, 128)  0           batch_normalization_222[0][0]    \n",
            "__________________________________________________________________________________________________\n",
            "conv2d_223 (Conv2D)             (None, 12, 12, 128)  114688      activation_222[0][0]             \n",
            "__________________________________________________________________________________________________\n",
            "batch_normalization_223 (BatchN (None, 12, 12, 128)  384         conv2d_223[0][0]                 \n",
            "__________________________________________________________________________________________________\n",
            "activation_223 (Activation)     (None, 12, 12, 128)  0           batch_normalization_223[0][0]    \n",
            "__________________________________________________________________________________________________\n",
            "conv2d_219 (Conv2D)             (None, 12, 12, 128)  98304       mixed3[0][0]                     \n",
            "__________________________________________________________________________________________________\n",
            "conv2d_224 (Conv2D)             (None, 12, 12, 128)  114688      activation_223[0][0]             \n",
            "__________________________________________________________________________________________________\n",
            "batch_normalization_219 (BatchN (None, 12, 12, 128)  384         conv2d_219[0][0]                 \n",
            "__________________________________________________________________________________________________\n",
            "batch_normalization_224 (BatchN (None, 12, 12, 128)  384         conv2d_224[0][0]                 \n",
            "__________________________________________________________________________________________________\n",
            "activation_219 (Activation)     (None, 12, 12, 128)  0           batch_normalization_219[0][0]    \n",
            "__________________________________________________________________________________________________\n",
            "activation_224 (Activation)     (None, 12, 12, 128)  0           batch_normalization_224[0][0]    \n",
            "__________________________________________________________________________________________________\n",
            "conv2d_220 (Conv2D)             (None, 12, 12, 128)  114688      activation_219[0][0]             \n",
            "__________________________________________________________________________________________________\n",
            "conv2d_225 (Conv2D)             (None, 12, 12, 128)  114688      activation_224[0][0]             \n",
            "__________________________________________________________________________________________________\n",
            "batch_normalization_220 (BatchN (None, 12, 12, 128)  384         conv2d_220[0][0]                 \n",
            "__________________________________________________________________________________________________\n",
            "batch_normalization_225 (BatchN (None, 12, 12, 128)  384         conv2d_225[0][0]                 \n",
            "__________________________________________________________________________________________________\n",
            "activation_220 (Activation)     (None, 12, 12, 128)  0           batch_normalization_220[0][0]    \n",
            "__________________________________________________________________________________________________\n",
            "activation_225 (Activation)     (None, 12, 12, 128)  0           batch_normalization_225[0][0]    \n",
            "__________________________________________________________________________________________________\n",
            "average_pooling2d_21 (AveragePo (None, 12, 12, 768)  0           mixed3[0][0]                     \n",
            "__________________________________________________________________________________________________\n",
            "conv2d_218 (Conv2D)             (None, 12, 12, 192)  147456      mixed3[0][0]                     \n",
            "__________________________________________________________________________________________________\n",
            "conv2d_221 (Conv2D)             (None, 12, 12, 192)  172032      activation_220[0][0]             \n",
            "__________________________________________________________________________________________________\n",
            "conv2d_226 (Conv2D)             (None, 12, 12, 192)  172032      activation_225[0][0]             \n",
            "__________________________________________________________________________________________________\n",
            "conv2d_227 (Conv2D)             (None, 12, 12, 192)  147456      average_pooling2d_21[0][0]       \n",
            "__________________________________________________________________________________________________\n",
            "batch_normalization_218 (BatchN (None, 12, 12, 192)  576         conv2d_218[0][0]                 \n",
            "__________________________________________________________________________________________________\n",
            "batch_normalization_221 (BatchN (None, 12, 12, 192)  576         conv2d_221[0][0]                 \n",
            "__________________________________________________________________________________________________\n",
            "batch_normalization_226 (BatchN (None, 12, 12, 192)  576         conv2d_226[0][0]                 \n",
            "__________________________________________________________________________________________________\n",
            "batch_normalization_227 (BatchN (None, 12, 12, 192)  576         conv2d_227[0][0]                 \n",
            "__________________________________________________________________________________________________\n",
            "activation_218 (Activation)     (None, 12, 12, 192)  0           batch_normalization_218[0][0]    \n",
            "__________________________________________________________________________________________________\n",
            "activation_221 (Activation)     (None, 12, 12, 192)  0           batch_normalization_221[0][0]    \n",
            "__________________________________________________________________________________________________\n",
            "activation_226 (Activation)     (None, 12, 12, 192)  0           batch_normalization_226[0][0]    \n",
            "__________________________________________________________________________________________________\n",
            "activation_227 (Activation)     (None, 12, 12, 192)  0           batch_normalization_227[0][0]    \n",
            "__________________________________________________________________________________________________\n",
            "mixed4 (Concatenate)            (None, 12, 12, 768)  0           activation_218[0][0]             \n",
            "                                                                 activation_221[0][0]             \n",
            "                                                                 activation_226[0][0]             \n",
            "                                                                 activation_227[0][0]             \n",
            "__________________________________________________________________________________________________\n",
            "conv2d_232 (Conv2D)             (None, 12, 12, 160)  122880      mixed4[0][0]                     \n",
            "__________________________________________________________________________________________________\n",
            "batch_normalization_232 (BatchN (None, 12, 12, 160)  480         conv2d_232[0][0]                 \n",
            "__________________________________________________________________________________________________\n",
            "activation_232 (Activation)     (None, 12, 12, 160)  0           batch_normalization_232[0][0]    \n",
            "__________________________________________________________________________________________________\n",
            "conv2d_233 (Conv2D)             (None, 12, 12, 160)  179200      activation_232[0][0]             \n",
            "__________________________________________________________________________________________________\n",
            "batch_normalization_233 (BatchN (None, 12, 12, 160)  480         conv2d_233[0][0]                 \n",
            "__________________________________________________________________________________________________\n",
            "activation_233 (Activation)     (None, 12, 12, 160)  0           batch_normalization_233[0][0]    \n",
            "__________________________________________________________________________________________________\n",
            "conv2d_229 (Conv2D)             (None, 12, 12, 160)  122880      mixed4[0][0]                     \n",
            "__________________________________________________________________________________________________\n",
            "conv2d_234 (Conv2D)             (None, 12, 12, 160)  179200      activation_233[0][0]             \n",
            "__________________________________________________________________________________________________\n",
            "batch_normalization_229 (BatchN (None, 12, 12, 160)  480         conv2d_229[0][0]                 \n",
            "__________________________________________________________________________________________________\n",
            "batch_normalization_234 (BatchN (None, 12, 12, 160)  480         conv2d_234[0][0]                 \n",
            "__________________________________________________________________________________________________\n",
            "activation_229 (Activation)     (None, 12, 12, 160)  0           batch_normalization_229[0][0]    \n",
            "__________________________________________________________________________________________________\n",
            "activation_234 (Activation)     (None, 12, 12, 160)  0           batch_normalization_234[0][0]    \n",
            "__________________________________________________________________________________________________\n",
            "conv2d_230 (Conv2D)             (None, 12, 12, 160)  179200      activation_229[0][0]             \n",
            "__________________________________________________________________________________________________\n",
            "conv2d_235 (Conv2D)             (None, 12, 12, 160)  179200      activation_234[0][0]             \n",
            "__________________________________________________________________________________________________\n",
            "batch_normalization_230 (BatchN (None, 12, 12, 160)  480         conv2d_230[0][0]                 \n",
            "__________________________________________________________________________________________________\n",
            "batch_normalization_235 (BatchN (None, 12, 12, 160)  480         conv2d_235[0][0]                 \n",
            "__________________________________________________________________________________________________\n",
            "activation_230 (Activation)     (None, 12, 12, 160)  0           batch_normalization_230[0][0]    \n",
            "__________________________________________________________________________________________________\n",
            "activation_235 (Activation)     (None, 12, 12, 160)  0           batch_normalization_235[0][0]    \n",
            "__________________________________________________________________________________________________\n",
            "average_pooling2d_22 (AveragePo (None, 12, 12, 768)  0           mixed4[0][0]                     \n",
            "__________________________________________________________________________________________________\n",
            "conv2d_228 (Conv2D)             (None, 12, 12, 192)  147456      mixed4[0][0]                     \n",
            "__________________________________________________________________________________________________\n",
            "conv2d_231 (Conv2D)             (None, 12, 12, 192)  215040      activation_230[0][0]             \n",
            "__________________________________________________________________________________________________\n",
            "conv2d_236 (Conv2D)             (None, 12, 12, 192)  215040      activation_235[0][0]             \n",
            "__________________________________________________________________________________________________\n",
            "conv2d_237 (Conv2D)             (None, 12, 12, 192)  147456      average_pooling2d_22[0][0]       \n",
            "__________________________________________________________________________________________________\n",
            "batch_normalization_228 (BatchN (None, 12, 12, 192)  576         conv2d_228[0][0]                 \n",
            "__________________________________________________________________________________________________\n",
            "batch_normalization_231 (BatchN (None, 12, 12, 192)  576         conv2d_231[0][0]                 \n",
            "__________________________________________________________________________________________________\n",
            "batch_normalization_236 (BatchN (None, 12, 12, 192)  576         conv2d_236[0][0]                 \n",
            "__________________________________________________________________________________________________\n",
            "batch_normalization_237 (BatchN (None, 12, 12, 192)  576         conv2d_237[0][0]                 \n",
            "__________________________________________________________________________________________________\n",
            "activation_228 (Activation)     (None, 12, 12, 192)  0           batch_normalization_228[0][0]    \n",
            "__________________________________________________________________________________________________\n",
            "activation_231 (Activation)     (None, 12, 12, 192)  0           batch_normalization_231[0][0]    \n",
            "__________________________________________________________________________________________________\n",
            "activation_236 (Activation)     (None, 12, 12, 192)  0           batch_normalization_236[0][0]    \n",
            "__________________________________________________________________________________________________\n",
            "activation_237 (Activation)     (None, 12, 12, 192)  0           batch_normalization_237[0][0]    \n",
            "__________________________________________________________________________________________________\n",
            "mixed5 (Concatenate)            (None, 12, 12, 768)  0           activation_228[0][0]             \n",
            "                                                                 activation_231[0][0]             \n",
            "                                                                 activation_236[0][0]             \n",
            "                                                                 activation_237[0][0]             \n",
            "__________________________________________________________________________________________________\n",
            "conv2d_242 (Conv2D)             (None, 12, 12, 160)  122880      mixed5[0][0]                     \n",
            "__________________________________________________________________________________________________\n",
            "batch_normalization_242 (BatchN (None, 12, 12, 160)  480         conv2d_242[0][0]                 \n",
            "__________________________________________________________________________________________________\n",
            "activation_242 (Activation)     (None, 12, 12, 160)  0           batch_normalization_242[0][0]    \n",
            "__________________________________________________________________________________________________\n",
            "conv2d_243 (Conv2D)             (None, 12, 12, 160)  179200      activation_242[0][0]             \n",
            "__________________________________________________________________________________________________\n",
            "batch_normalization_243 (BatchN (None, 12, 12, 160)  480         conv2d_243[0][0]                 \n",
            "__________________________________________________________________________________________________\n",
            "activation_243 (Activation)     (None, 12, 12, 160)  0           batch_normalization_243[0][0]    \n",
            "__________________________________________________________________________________________________\n",
            "conv2d_239 (Conv2D)             (None, 12, 12, 160)  122880      mixed5[0][0]                     \n",
            "__________________________________________________________________________________________________\n",
            "conv2d_244 (Conv2D)             (None, 12, 12, 160)  179200      activation_243[0][0]             \n",
            "__________________________________________________________________________________________________\n",
            "batch_normalization_239 (BatchN (None, 12, 12, 160)  480         conv2d_239[0][0]                 \n",
            "__________________________________________________________________________________________________\n",
            "batch_normalization_244 (BatchN (None, 12, 12, 160)  480         conv2d_244[0][0]                 \n",
            "__________________________________________________________________________________________________\n",
            "activation_239 (Activation)     (None, 12, 12, 160)  0           batch_normalization_239[0][0]    \n",
            "__________________________________________________________________________________________________\n",
            "activation_244 (Activation)     (None, 12, 12, 160)  0           batch_normalization_244[0][0]    \n",
            "__________________________________________________________________________________________________\n",
            "conv2d_240 (Conv2D)             (None, 12, 12, 160)  179200      activation_239[0][0]             \n",
            "__________________________________________________________________________________________________\n",
            "conv2d_245 (Conv2D)             (None, 12, 12, 160)  179200      activation_244[0][0]             \n",
            "__________________________________________________________________________________________________\n",
            "batch_normalization_240 (BatchN (None, 12, 12, 160)  480         conv2d_240[0][0]                 \n",
            "__________________________________________________________________________________________________\n",
            "batch_normalization_245 (BatchN (None, 12, 12, 160)  480         conv2d_245[0][0]                 \n",
            "__________________________________________________________________________________________________\n",
            "activation_240 (Activation)     (None, 12, 12, 160)  0           batch_normalization_240[0][0]    \n",
            "__________________________________________________________________________________________________\n",
            "activation_245 (Activation)     (None, 12, 12, 160)  0           batch_normalization_245[0][0]    \n",
            "__________________________________________________________________________________________________\n",
            "average_pooling2d_23 (AveragePo (None, 12, 12, 768)  0           mixed5[0][0]                     \n",
            "__________________________________________________________________________________________________\n",
            "conv2d_238 (Conv2D)             (None, 12, 12, 192)  147456      mixed5[0][0]                     \n",
            "__________________________________________________________________________________________________\n",
            "conv2d_241 (Conv2D)             (None, 12, 12, 192)  215040      activation_240[0][0]             \n",
            "__________________________________________________________________________________________________\n",
            "conv2d_246 (Conv2D)             (None, 12, 12, 192)  215040      activation_245[0][0]             \n",
            "__________________________________________________________________________________________________\n",
            "conv2d_247 (Conv2D)             (None, 12, 12, 192)  147456      average_pooling2d_23[0][0]       \n",
            "__________________________________________________________________________________________________\n",
            "batch_normalization_238 (BatchN (None, 12, 12, 192)  576         conv2d_238[0][0]                 \n",
            "__________________________________________________________________________________________________\n",
            "batch_normalization_241 (BatchN (None, 12, 12, 192)  576         conv2d_241[0][0]                 \n",
            "__________________________________________________________________________________________________\n",
            "batch_normalization_246 (BatchN (None, 12, 12, 192)  576         conv2d_246[0][0]                 \n",
            "__________________________________________________________________________________________________\n",
            "batch_normalization_247 (BatchN (None, 12, 12, 192)  576         conv2d_247[0][0]                 \n",
            "__________________________________________________________________________________________________\n",
            "activation_238 (Activation)     (None, 12, 12, 192)  0           batch_normalization_238[0][0]    \n",
            "__________________________________________________________________________________________________\n",
            "activation_241 (Activation)     (None, 12, 12, 192)  0           batch_normalization_241[0][0]    \n",
            "__________________________________________________________________________________________________\n",
            "activation_246 (Activation)     (None, 12, 12, 192)  0           batch_normalization_246[0][0]    \n",
            "__________________________________________________________________________________________________\n",
            "activation_247 (Activation)     (None, 12, 12, 192)  0           batch_normalization_247[0][0]    \n",
            "__________________________________________________________________________________________________\n",
            "mixed6 (Concatenate)            (None, 12, 12, 768)  0           activation_238[0][0]             \n",
            "                                                                 activation_241[0][0]             \n",
            "                                                                 activation_246[0][0]             \n",
            "                                                                 activation_247[0][0]             \n",
            "__________________________________________________________________________________________________\n",
            "conv2d_252 (Conv2D)             (None, 12, 12, 192)  147456      mixed6[0][0]                     \n",
            "__________________________________________________________________________________________________\n",
            "batch_normalization_252 (BatchN (None, 12, 12, 192)  576         conv2d_252[0][0]                 \n",
            "__________________________________________________________________________________________________\n",
            "activation_252 (Activation)     (None, 12, 12, 192)  0           batch_normalization_252[0][0]    \n",
            "__________________________________________________________________________________________________\n",
            "conv2d_253 (Conv2D)             (None, 12, 12, 192)  258048      activation_252[0][0]             \n",
            "__________________________________________________________________________________________________\n",
            "batch_normalization_253 (BatchN (None, 12, 12, 192)  576         conv2d_253[0][0]                 \n",
            "__________________________________________________________________________________________________\n",
            "activation_253 (Activation)     (None, 12, 12, 192)  0           batch_normalization_253[0][0]    \n",
            "__________________________________________________________________________________________________\n",
            "conv2d_249 (Conv2D)             (None, 12, 12, 192)  147456      mixed6[0][0]                     \n",
            "__________________________________________________________________________________________________\n",
            "conv2d_254 (Conv2D)             (None, 12, 12, 192)  258048      activation_253[0][0]             \n",
            "__________________________________________________________________________________________________\n",
            "batch_normalization_249 (BatchN (None, 12, 12, 192)  576         conv2d_249[0][0]                 \n",
            "__________________________________________________________________________________________________\n",
            "batch_normalization_254 (BatchN (None, 12, 12, 192)  576         conv2d_254[0][0]                 \n",
            "__________________________________________________________________________________________________\n",
            "activation_249 (Activation)     (None, 12, 12, 192)  0           batch_normalization_249[0][0]    \n",
            "__________________________________________________________________________________________________\n",
            "activation_254 (Activation)     (None, 12, 12, 192)  0           batch_normalization_254[0][0]    \n",
            "__________________________________________________________________________________________________\n",
            "conv2d_250 (Conv2D)             (None, 12, 12, 192)  258048      activation_249[0][0]             \n",
            "__________________________________________________________________________________________________\n",
            "conv2d_255 (Conv2D)             (None, 12, 12, 192)  258048      activation_254[0][0]             \n",
            "__________________________________________________________________________________________________\n",
            "batch_normalization_250 (BatchN (None, 12, 12, 192)  576         conv2d_250[0][0]                 \n",
            "__________________________________________________________________________________________________\n",
            "batch_normalization_255 (BatchN (None, 12, 12, 192)  576         conv2d_255[0][0]                 \n",
            "__________________________________________________________________________________________________\n",
            "activation_250 (Activation)     (None, 12, 12, 192)  0           batch_normalization_250[0][0]    \n",
            "__________________________________________________________________________________________________\n",
            "activation_255 (Activation)     (None, 12, 12, 192)  0           batch_normalization_255[0][0]    \n",
            "__________________________________________________________________________________________________\n",
            "average_pooling2d_24 (AveragePo (None, 12, 12, 768)  0           mixed6[0][0]                     \n",
            "__________________________________________________________________________________________________\n",
            "conv2d_248 (Conv2D)             (None, 12, 12, 192)  147456      mixed6[0][0]                     \n",
            "__________________________________________________________________________________________________\n",
            "conv2d_251 (Conv2D)             (None, 12, 12, 192)  258048      activation_250[0][0]             \n",
            "__________________________________________________________________________________________________\n",
            "conv2d_256 (Conv2D)             (None, 12, 12, 192)  258048      activation_255[0][0]             \n",
            "__________________________________________________________________________________________________\n",
            "conv2d_257 (Conv2D)             (None, 12, 12, 192)  147456      average_pooling2d_24[0][0]       \n",
            "__________________________________________________________________________________________________\n",
            "batch_normalization_248 (BatchN (None, 12, 12, 192)  576         conv2d_248[0][0]                 \n",
            "__________________________________________________________________________________________________\n",
            "batch_normalization_251 (BatchN (None, 12, 12, 192)  576         conv2d_251[0][0]                 \n",
            "__________________________________________________________________________________________________\n",
            "batch_normalization_256 (BatchN (None, 12, 12, 192)  576         conv2d_256[0][0]                 \n",
            "__________________________________________________________________________________________________\n",
            "batch_normalization_257 (BatchN (None, 12, 12, 192)  576         conv2d_257[0][0]                 \n",
            "__________________________________________________________________________________________________\n",
            "activation_248 (Activation)     (None, 12, 12, 192)  0           batch_normalization_248[0][0]    \n",
            "__________________________________________________________________________________________________\n",
            "activation_251 (Activation)     (None, 12, 12, 192)  0           batch_normalization_251[0][0]    \n",
            "__________________________________________________________________________________________________\n",
            "activation_256 (Activation)     (None, 12, 12, 192)  0           batch_normalization_256[0][0]    \n",
            "__________________________________________________________________________________________________\n",
            "activation_257 (Activation)     (None, 12, 12, 192)  0           batch_normalization_257[0][0]    \n",
            "__________________________________________________________________________________________________\n",
            "mixed7 (Concatenate)            (None, 12, 12, 768)  0           activation_248[0][0]             \n",
            "                                                                 activation_251[0][0]             \n",
            "                                                                 activation_256[0][0]             \n",
            "                                                                 activation_257[0][0]             \n",
            "__________________________________________________________________________________________________\n",
            "conv2d_260 (Conv2D)             (None, 12, 12, 192)  147456      mixed7[0][0]                     \n",
            "__________________________________________________________________________________________________\n",
            "batch_normalization_260 (BatchN (None, 12, 12, 192)  576         conv2d_260[0][0]                 \n",
            "__________________________________________________________________________________________________\n",
            "activation_260 (Activation)     (None, 12, 12, 192)  0           batch_normalization_260[0][0]    \n",
            "__________________________________________________________________________________________________\n",
            "conv2d_261 (Conv2D)             (None, 12, 12, 192)  258048      activation_260[0][0]             \n",
            "__________________________________________________________________________________________________\n",
            "batch_normalization_261 (BatchN (None, 12, 12, 192)  576         conv2d_261[0][0]                 \n",
            "__________________________________________________________________________________________________\n",
            "activation_261 (Activation)     (None, 12, 12, 192)  0           batch_normalization_261[0][0]    \n",
            "__________________________________________________________________________________________________\n",
            "conv2d_258 (Conv2D)             (None, 12, 12, 192)  147456      mixed7[0][0]                     \n",
            "__________________________________________________________________________________________________\n",
            "conv2d_262 (Conv2D)             (None, 12, 12, 192)  258048      activation_261[0][0]             \n",
            "__________________________________________________________________________________________________\n",
            "batch_normalization_258 (BatchN (None, 12, 12, 192)  576         conv2d_258[0][0]                 \n",
            "__________________________________________________________________________________________________\n",
            "batch_normalization_262 (BatchN (None, 12, 12, 192)  576         conv2d_262[0][0]                 \n",
            "__________________________________________________________________________________________________\n",
            "activation_258 (Activation)     (None, 12, 12, 192)  0           batch_normalization_258[0][0]    \n",
            "__________________________________________________________________________________________________\n",
            "activation_262 (Activation)     (None, 12, 12, 192)  0           batch_normalization_262[0][0]    \n",
            "__________________________________________________________________________________________________\n",
            "conv2d_259 (Conv2D)             (None, 5, 5, 320)    552960      activation_258[0][0]             \n",
            "__________________________________________________________________________________________________\n",
            "conv2d_263 (Conv2D)             (None, 5, 5, 192)    331776      activation_262[0][0]             \n",
            "__________________________________________________________________________________________________\n",
            "batch_normalization_259 (BatchN (None, 5, 5, 320)    960         conv2d_259[0][0]                 \n",
            "__________________________________________________________________________________________________\n",
            "batch_normalization_263 (BatchN (None, 5, 5, 192)    576         conv2d_263[0][0]                 \n",
            "__________________________________________________________________________________________________\n",
            "activation_259 (Activation)     (None, 5, 5, 320)    0           batch_normalization_259[0][0]    \n",
            "__________________________________________________________________________________________________\n",
            "activation_263 (Activation)     (None, 5, 5, 192)    0           batch_normalization_263[0][0]    \n",
            "__________________________________________________________________________________________________\n",
            "max_pooling2d_11 (MaxPooling2D) (None, 5, 5, 768)    0           mixed7[0][0]                     \n",
            "__________________________________________________________________________________________________\n",
            "mixed8 (Concatenate)            (None, 5, 5, 1280)   0           activation_259[0][0]             \n",
            "                                                                 activation_263[0][0]             \n",
            "                                                                 max_pooling2d_11[0][0]           \n",
            "__________________________________________________________________________________________________\n",
            "conv2d_268 (Conv2D)             (None, 5, 5, 448)    573440      mixed8[0][0]                     \n",
            "__________________________________________________________________________________________________\n",
            "batch_normalization_268 (BatchN (None, 5, 5, 448)    1344        conv2d_268[0][0]                 \n",
            "__________________________________________________________________________________________________\n",
            "activation_268 (Activation)     (None, 5, 5, 448)    0           batch_normalization_268[0][0]    \n",
            "__________________________________________________________________________________________________\n",
            "conv2d_265 (Conv2D)             (None, 5, 5, 384)    491520      mixed8[0][0]                     \n",
            "__________________________________________________________________________________________________\n",
            "conv2d_269 (Conv2D)             (None, 5, 5, 384)    1548288     activation_268[0][0]             \n",
            "__________________________________________________________________________________________________\n",
            "batch_normalization_265 (BatchN (None, 5, 5, 384)    1152        conv2d_265[0][0]                 \n",
            "__________________________________________________________________________________________________\n",
            "batch_normalization_269 (BatchN (None, 5, 5, 384)    1152        conv2d_269[0][0]                 \n",
            "__________________________________________________________________________________________________\n",
            "activation_265 (Activation)     (None, 5, 5, 384)    0           batch_normalization_265[0][0]    \n",
            "__________________________________________________________________________________________________\n",
            "activation_269 (Activation)     (None, 5, 5, 384)    0           batch_normalization_269[0][0]    \n",
            "__________________________________________________________________________________________________\n",
            "conv2d_266 (Conv2D)             (None, 5, 5, 384)    442368      activation_265[0][0]             \n",
            "__________________________________________________________________________________________________\n",
            "conv2d_267 (Conv2D)             (None, 5, 5, 384)    442368      activation_265[0][0]             \n",
            "__________________________________________________________________________________________________\n",
            "conv2d_270 (Conv2D)             (None, 5, 5, 384)    442368      activation_269[0][0]             \n",
            "__________________________________________________________________________________________________\n",
            "conv2d_271 (Conv2D)             (None, 5, 5, 384)    442368      activation_269[0][0]             \n",
            "__________________________________________________________________________________________________\n",
            "average_pooling2d_25 (AveragePo (None, 5, 5, 1280)   0           mixed8[0][0]                     \n",
            "__________________________________________________________________________________________________\n",
            "conv2d_264 (Conv2D)             (None, 5, 5, 320)    409600      mixed8[0][0]                     \n",
            "__________________________________________________________________________________________________\n",
            "batch_normalization_266 (BatchN (None, 5, 5, 384)    1152        conv2d_266[0][0]                 \n",
            "__________________________________________________________________________________________________\n",
            "batch_normalization_267 (BatchN (None, 5, 5, 384)    1152        conv2d_267[0][0]                 \n",
            "__________________________________________________________________________________________________\n",
            "batch_normalization_270 (BatchN (None, 5, 5, 384)    1152        conv2d_270[0][0]                 \n",
            "__________________________________________________________________________________________________\n",
            "batch_normalization_271 (BatchN (None, 5, 5, 384)    1152        conv2d_271[0][0]                 \n",
            "__________________________________________________________________________________________________\n",
            "conv2d_272 (Conv2D)             (None, 5, 5, 192)    245760      average_pooling2d_25[0][0]       \n",
            "__________________________________________________________________________________________________\n",
            "batch_normalization_264 (BatchN (None, 5, 5, 320)    960         conv2d_264[0][0]                 \n",
            "__________________________________________________________________________________________________\n",
            "activation_266 (Activation)     (None, 5, 5, 384)    0           batch_normalization_266[0][0]    \n",
            "__________________________________________________________________________________________________\n",
            "activation_267 (Activation)     (None, 5, 5, 384)    0           batch_normalization_267[0][0]    \n",
            "__________________________________________________________________________________________________\n",
            "activation_270 (Activation)     (None, 5, 5, 384)    0           batch_normalization_270[0][0]    \n",
            "__________________________________________________________________________________________________\n",
            "activation_271 (Activation)     (None, 5, 5, 384)    0           batch_normalization_271[0][0]    \n",
            "__________________________________________________________________________________________________\n",
            "batch_normalization_272 (BatchN (None, 5, 5, 192)    576         conv2d_272[0][0]                 \n",
            "__________________________________________________________________________________________________\n",
            "activation_264 (Activation)     (None, 5, 5, 320)    0           batch_normalization_264[0][0]    \n",
            "__________________________________________________________________________________________________\n",
            "mixed9_0 (Concatenate)          (None, 5, 5, 768)    0           activation_266[0][0]             \n",
            "                                                                 activation_267[0][0]             \n",
            "__________________________________________________________________________________________________\n",
            "concatenate_4 (Concatenate)     (None, 5, 5, 768)    0           activation_270[0][0]             \n",
            "                                                                 activation_271[0][0]             \n",
            "__________________________________________________________________________________________________\n",
            "activation_272 (Activation)     (None, 5, 5, 192)    0           batch_normalization_272[0][0]    \n",
            "__________________________________________________________________________________________________\n",
            "mixed9 (Concatenate)            (None, 5, 5, 2048)   0           activation_264[0][0]             \n",
            "                                                                 mixed9_0[0][0]                   \n",
            "                                                                 concatenate_4[0][0]              \n",
            "                                                                 activation_272[0][0]             \n",
            "__________________________________________________________________________________________________\n",
            "conv2d_277 (Conv2D)             (None, 5, 5, 448)    917504      mixed9[0][0]                     \n",
            "__________________________________________________________________________________________________\n",
            "batch_normalization_277 (BatchN (None, 5, 5, 448)    1344        conv2d_277[0][0]                 \n",
            "__________________________________________________________________________________________________\n",
            "activation_277 (Activation)     (None, 5, 5, 448)    0           batch_normalization_277[0][0]    \n",
            "__________________________________________________________________________________________________\n",
            "conv2d_274 (Conv2D)             (None, 5, 5, 384)    786432      mixed9[0][0]                     \n",
            "__________________________________________________________________________________________________\n",
            "conv2d_278 (Conv2D)             (None, 5, 5, 384)    1548288     activation_277[0][0]             \n",
            "__________________________________________________________________________________________________\n",
            "batch_normalization_274 (BatchN (None, 5, 5, 384)    1152        conv2d_274[0][0]                 \n",
            "__________________________________________________________________________________________________\n",
            "batch_normalization_278 (BatchN (None, 5, 5, 384)    1152        conv2d_278[0][0]                 \n",
            "__________________________________________________________________________________________________\n",
            "activation_274 (Activation)     (None, 5, 5, 384)    0           batch_normalization_274[0][0]    \n",
            "__________________________________________________________________________________________________\n",
            "activation_278 (Activation)     (None, 5, 5, 384)    0           batch_normalization_278[0][0]    \n",
            "__________________________________________________________________________________________________\n",
            "conv2d_275 (Conv2D)             (None, 5, 5, 384)    442368      activation_274[0][0]             \n",
            "__________________________________________________________________________________________________\n",
            "conv2d_276 (Conv2D)             (None, 5, 5, 384)    442368      activation_274[0][0]             \n",
            "__________________________________________________________________________________________________\n",
            "conv2d_279 (Conv2D)             (None, 5, 5, 384)    442368      activation_278[0][0]             \n",
            "__________________________________________________________________________________________________\n",
            "conv2d_280 (Conv2D)             (None, 5, 5, 384)    442368      activation_278[0][0]             \n",
            "__________________________________________________________________________________________________\n",
            "average_pooling2d_26 (AveragePo (None, 5, 5, 2048)   0           mixed9[0][0]                     \n",
            "__________________________________________________________________________________________________\n",
            "conv2d_273 (Conv2D)             (None, 5, 5, 320)    655360      mixed9[0][0]                     \n",
            "__________________________________________________________________________________________________\n",
            "batch_normalization_275 (BatchN (None, 5, 5, 384)    1152        conv2d_275[0][0]                 \n",
            "__________________________________________________________________________________________________\n",
            "batch_normalization_276 (BatchN (None, 5, 5, 384)    1152        conv2d_276[0][0]                 \n",
            "__________________________________________________________________________________________________\n",
            "batch_normalization_279 (BatchN (None, 5, 5, 384)    1152        conv2d_279[0][0]                 \n",
            "__________________________________________________________________________________________________\n",
            "batch_normalization_280 (BatchN (None, 5, 5, 384)    1152        conv2d_280[0][0]                 \n",
            "__________________________________________________________________________________________________\n",
            "conv2d_281 (Conv2D)             (None, 5, 5, 192)    393216      average_pooling2d_26[0][0]       \n",
            "__________________________________________________________________________________________________\n",
            "batch_normalization_273 (BatchN (None, 5, 5, 320)    960         conv2d_273[0][0]                 \n",
            "__________________________________________________________________________________________________\n",
            "activation_275 (Activation)     (None, 5, 5, 384)    0           batch_normalization_275[0][0]    \n",
            "__________________________________________________________________________________________________\n",
            "activation_276 (Activation)     (None, 5, 5, 384)    0           batch_normalization_276[0][0]    \n",
            "__________________________________________________________________________________________________\n",
            "activation_279 (Activation)     (None, 5, 5, 384)    0           batch_normalization_279[0][0]    \n",
            "__________________________________________________________________________________________________\n",
            "activation_280 (Activation)     (None, 5, 5, 384)    0           batch_normalization_280[0][0]    \n",
            "__________________________________________________________________________________________________\n",
            "batch_normalization_281 (BatchN (None, 5, 5, 192)    576         conv2d_281[0][0]                 \n",
            "__________________________________________________________________________________________________\n",
            "activation_273 (Activation)     (None, 5, 5, 320)    0           batch_normalization_273[0][0]    \n",
            "__________________________________________________________________________________________________\n",
            "mixed9_1 (Concatenate)          (None, 5, 5, 768)    0           activation_275[0][0]             \n",
            "                                                                 activation_276[0][0]             \n",
            "__________________________________________________________________________________________________\n",
            "concatenate_5 (Concatenate)     (None, 5, 5, 768)    0           activation_279[0][0]             \n",
            "                                                                 activation_280[0][0]             \n",
            "__________________________________________________________________________________________________\n",
            "activation_281 (Activation)     (None, 5, 5, 192)    0           batch_normalization_281[0][0]    \n",
            "__________________________________________________________________________________________________\n",
            "mixed10 (Concatenate)           (None, 5, 5, 2048)   0           activation_273[0][0]             \n",
            "                                                                 mixed9_1[0][0]                   \n",
            "                                                                 concatenate_5[0][0]              \n",
            "                                                                 activation_281[0][0]             \n",
            "__________________________________________________________________________________________________\n",
            "flatten_2 (Flatten)             (None, 51200)        0           mixed10[0][0]                    \n",
            "__________________________________________________________________________________________________\n",
            "dense_6 (Dense)                 (None, 1024)         52429824    flatten_2[0][0]                  \n",
            "__________________________________________________________________________________________________\n",
            "dense_7 (Dense)                 (None, 512)          524800      dense_6[0][0]                    \n",
            "__________________________________________________________________________________________________\n",
            "dense_8 (Dense)                 (None, 10)           5130        dense_7[0][0]                    \n",
            "==================================================================================================\n",
            "Total params: 74,762,538\n",
            "Trainable params: 52,959,754\n",
            "Non-trainable params: 21,802,784\n",
            "__________________________________________________________________________________________________\n"
          ],
          "name": "stdout"
        }
      ]
    },
    {
      "cell_type": "code",
      "metadata": {
        "colab": {
          "base_uri": "https://localhost:8080/",
          "height": 1000
        },
        "id": "C1chdgj6Mbqb",
        "outputId": "d0a9327a-1a0e-46df-c9ef-44a72e71bdc7"
      },
      "source": [
        "\n",
        "callbacks = myCallback()\n",
        "history = final_model.fit(training_set,\n",
        "                          validation_data=validation_set,\n",
        "                          epochs= 100,\n",
        "                          steps_per_epoch = 150,\n",
        "                          callbacks=[callbacks])\n",
        "\n",
        "final_model.save('inceptionv3.h5')\n",
        "final_model.save_weights('inceptionv3_weights.h5')\n",
        "\n",
        "\n",
        "plt.figure(figsize=(12,10))\n",
        "plt.plot(history.history['accuracy'])\n",
        "plt.plot(history.history['val_accuracy'])\n",
        "plt.title('model accuracy')\n",
        "plt.ylabel('accuracy')\n",
        "plt.xlabel('epoch')\n",
        "plt.legend(['train', 'test'])\n",
        "plt.show()\n",
        "\n",
        "plt.figure(figsize=(12,10))\n",
        "plt.plot(history.history['loss'])\n",
        "plt.plot(history.history['val_loss'])\n",
        "plt.title('model loss')\n",
        "plt.ylabel('loss')\n",
        "plt.xlabel('epoch')\n",
        "plt.legend(['train', 'test'])\n",
        "plt.show()"
      ],
      "execution_count": null,
      "outputs": [
        {
          "output_type": "stream",
          "text": [
            "Epoch 1/100\n",
            "150/150 [==============================] - 217s 1s/step - loss: 23.7703 - accuracy: 0.1090 - val_loss: 2.2428 - val_accuracy: 0.1688\n",
            "Epoch 2/100\n",
            "150/150 [==============================] - 217s 1s/step - loss: 2.4789 - accuracy: 0.1871 - val_loss: 2.2158 - val_accuracy: 0.1688\n",
            "Epoch 3/100\n",
            "150/150 [==============================] - 221s 1s/step - loss: 2.3125 - accuracy: 0.1673 - val_loss: 5.1447 - val_accuracy: 0.1478\n",
            "Epoch 4/100\n",
            "150/150 [==============================] - 199s 1s/step - loss: 2.4422 - accuracy: 0.1606 - val_loss: 2.2119 - val_accuracy: 0.1787\n",
            "Epoch 5/100\n",
            "150/150 [==============================] - 159s 1s/step - loss: 2.3728 - accuracy: 0.1173 - val_loss: 2.2053 - val_accuracy: 0.1809\n",
            "Epoch 6/100\n",
            "150/150 [==============================] - 151s 1s/step - loss: 2.4640 - accuracy: 0.1857 - val_loss: 2.1852 - val_accuracy: 0.1956\n",
            "Epoch 7/100\n",
            "150/150 [==============================] - 131s 879ms/step - loss: 2.3747 - accuracy: 0.2065 - val_loss: 2.1904 - val_accuracy: 0.2036\n",
            "Epoch 8/100\n",
            "150/150 [==============================] - 133s 888ms/step - loss: 2.3568 - accuracy: 0.1779 - val_loss: 2.1515 - val_accuracy: 0.1940\n",
            "Epoch 9/100\n",
            "150/150 [==============================] - 141s 941ms/step - loss: 2.1699 - accuracy: 0.1857 - val_loss: 2.1778 - val_accuracy: 0.1760\n",
            "Epoch 10/100\n",
            "150/150 [==============================] - 142s 947ms/step - loss: 2.1411 - accuracy: 0.2104 - val_loss: 2.1522 - val_accuracy: 0.1440\n",
            "Epoch 11/100\n",
            "150/150 [==============================] - 142s 951ms/step - loss: 2.1757 - accuracy: 0.2104 - val_loss: 2.1610 - val_accuracy: 0.1629\n",
            "Epoch 12/100\n",
            "150/150 [==============================] - 133s 886ms/step - loss: 2.1186 - accuracy: 0.1829 - val_loss: 2.0919 - val_accuracy: 0.2030\n",
            "Epoch 13/100\n",
            "150/150 [==============================] - 132s 886ms/step - loss: 2.0800 - accuracy: 0.2537 - val_loss: 2.2576 - val_accuracy: 0.2181\n",
            "Epoch 14/100\n",
            "150/150 [==============================] - 131s 879ms/step - loss: 2.1045 - accuracy: 0.2340 - val_loss: 2.0879 - val_accuracy: 0.1829\n",
            "Epoch 15/100\n",
            "150/150 [==============================] - 143s 954ms/step - loss: 2.5415 - accuracy: 0.1900 - val_loss: 2.0691 - val_accuracy: 0.2123\n",
            "Epoch 16/100\n",
            "150/150 [==============================] - 132s 880ms/step - loss: 2.2039 - accuracy: 0.2100 - val_loss: 2.0398 - val_accuracy: 0.2205\n",
            "Epoch 17/100\n",
            "150/150 [==============================] - 133s 891ms/step - loss: 2.0177 - accuracy: 0.2635 - val_loss: 2.0344 - val_accuracy: 0.2226\n",
            "Epoch 18/100\n",
            "150/150 [==============================] - 134s 895ms/step - loss: 2.2077 - accuracy: 0.2423 - val_loss: 5.7522 - val_accuracy: 0.1563\n",
            "Epoch 19/100\n",
            "150/150 [==============================] - 132s 883ms/step - loss: 2.1789 - accuracy: 0.1721 - val_loss: 2.0407 - val_accuracy: 0.2103\n",
            "Epoch 20/100\n",
            "150/150 [==============================] - 134s 897ms/step - loss: 2.0437 - accuracy: 0.2119 - val_loss: 1.9973 - val_accuracy: 0.2218\n",
            "Epoch 21/100\n",
            "150/150 [==============================] - 132s 881ms/step - loss: 2.1687 - accuracy: 0.2364 - val_loss: 2.0223 - val_accuracy: 0.2197\n",
            "Epoch 22/100\n",
            "150/150 [==============================] - 133s 887ms/step - loss: 2.0333 - accuracy: 0.2379 - val_loss: 2.2246 - val_accuracy: 0.1871\n",
            "Epoch 23/100\n",
            "150/150 [==============================] - 133s 887ms/step - loss: 2.0710 - accuracy: 0.1842 - val_loss: 2.0004 - val_accuracy: 0.2228\n",
            "Epoch 24/100\n",
            "150/150 [==============================] - 132s 880ms/step - loss: 2.1077 - accuracy: 0.2294 - val_loss: 2.0186 - val_accuracy: 0.2256\n",
            "Epoch 25/100\n",
            "150/150 [==============================] - 130s 870ms/step - loss: 1.9998 - accuracy: 0.2035 - val_loss: 1.9848 - val_accuracy: 0.1992\n",
            "Epoch 26/100\n",
            "150/150 [==============================] - 131s 873ms/step - loss: 2.0315 - accuracy: 0.1919 - val_loss: 2.0219 - val_accuracy: 0.2236\n",
            "Epoch 27/100\n",
            "150/150 [==============================] - 133s 890ms/step - loss: 2.0383 - accuracy: 0.2054 - val_loss: 1.9686 - val_accuracy: 0.2346\n",
            "Epoch 28/100\n",
            "150/150 [==============================] - 131s 877ms/step - loss: 1.9632 - accuracy: 0.2752 - val_loss: 1.9989 - val_accuracy: 0.2213\n",
            "Epoch 29/100\n",
            "150/150 [==============================] - 131s 877ms/step - loss: 2.5391 - accuracy: 0.2058 - val_loss: 1.9702 - val_accuracy: 0.2282\n",
            "Epoch 30/100\n",
            "150/150 [==============================] - 130s 870ms/step - loss: 1.9874 - accuracy: 0.2535 - val_loss: 2.0067 - val_accuracy: 0.2242\n",
            "Epoch 31/100\n",
            "150/150 [==============================] - 130s 872ms/step - loss: 2.0965 - accuracy: 0.1898 - val_loss: 1.9537 - val_accuracy: 0.2542\n",
            "Epoch 32/100\n",
            "150/150 [==============================] - 130s 872ms/step - loss: 2.0225 - accuracy: 0.2360 - val_loss: 1.9582 - val_accuracy: 0.2389\n",
            "Epoch 33/100\n",
            "150/150 [==============================] - 130s 867ms/step - loss: 2.0269 - accuracy: 0.2029 - val_loss: 1.9757 - val_accuracy: 0.2389\n",
            "Epoch 34/100\n",
            "150/150 [==============================] - 132s 883ms/step - loss: 2.0454 - accuracy: 0.2008 - val_loss: 1.9949 - val_accuracy: 0.2346\n",
            "Epoch 35/100\n",
            "150/150 [==============================] - 130s 869ms/step - loss: 2.0457 - accuracy: 0.2060 - val_loss: 2.0153 - val_accuracy: 0.2425\n",
            "Epoch 36/100\n",
            "150/150 [==============================] - 131s 873ms/step - loss: 2.0177 - accuracy: 0.2285 - val_loss: 1.9992 - val_accuracy: 0.2350\n",
            "Epoch 37/100\n",
            "150/150 [==============================] - 130s 871ms/step - loss: 1.9758 - accuracy: 0.2744 - val_loss: 1.9420 - val_accuracy: 0.2586\n",
            "Epoch 38/100\n",
            "150/150 [==============================] - 130s 870ms/step - loss: 2.0729 - accuracy: 0.2058 - val_loss: 2.0647 - val_accuracy: 0.2278\n",
            "Epoch 39/100\n",
            "150/150 [==============================] - 131s 876ms/step - loss: 1.9691 - accuracy: 0.2373 - val_loss: 1.9603 - val_accuracy: 0.2310\n",
            "Epoch 40/100\n",
            "150/150 [==============================] - 131s 873ms/step - loss: 2.0174 - accuracy: 0.2233 - val_loss: 2.3594 - val_accuracy: 0.2560\n",
            "Epoch 41/100\n",
            "150/150 [==============================] - 131s 877ms/step - loss: 2.0022 - accuracy: 0.2317 - val_loss: 1.9891 - val_accuracy: 0.2342\n",
            "Epoch 42/100\n",
            "150/150 [==============================] - 129s 865ms/step - loss: 1.9842 - accuracy: 0.2165 - val_loss: 2.1135 - val_accuracy: 0.2816\n",
            "Epoch 43/100\n",
            "150/150 [==============================] - 130s 866ms/step - loss: 2.0125 - accuracy: 0.2557 - val_loss: 1.9232 - val_accuracy: 0.2546\n",
            "Epoch 44/100\n",
            "150/150 [==============================] - 130s 868ms/step - loss: 1.9905 - accuracy: 0.2802 - val_loss: 1.9238 - val_accuracy: 0.2773\n",
            "Epoch 45/100\n",
            "150/150 [==============================] - 130s 870ms/step - loss: 1.9185 - accuracy: 0.3008 - val_loss: 1.8730 - val_accuracy: 0.3013\n",
            "Epoch 46/100\n",
            "150/150 [==============================] - 131s 878ms/step - loss: 1.9398 - accuracy: 0.3113 - val_loss: 2.0461 - val_accuracy: 0.2856\n",
            "Epoch 47/100\n",
            "150/150 [==============================] - 130s 866ms/step - loss: 1.9480 - accuracy: 0.2402 - val_loss: 1.8029 - val_accuracy: 0.2779\n",
            "Epoch 48/100\n",
            "150/150 [==============================] - 132s 884ms/step - loss: 1.9523 - accuracy: 0.2683 - val_loss: 1.8891 - val_accuracy: 0.2858\n",
            "Epoch 49/100\n",
            "150/150 [==============================] - 130s 872ms/step - loss: 1.8177 - accuracy: 0.3335 - val_loss: 1.7727 - val_accuracy: 0.3277\n",
            "Epoch 50/100\n",
            "150/150 [==============================] - 131s 878ms/step - loss: 1.8690 - accuracy: 0.3187 - val_loss: 1.9297 - val_accuracy: 0.2924\n",
            "Epoch 51/100\n",
            "150/150 [==============================] - 130s 871ms/step - loss: 1.8746 - accuracy: 0.2571 - val_loss: 2.5670 - val_accuracy: 0.3007\n",
            "Epoch 52/100\n",
            "150/150 [==============================] - 130s 867ms/step - loss: 1.8300 - accuracy: 0.3210 - val_loss: 2.0192 - val_accuracy: 0.3049\n",
            "Epoch 53/100\n",
            "150/150 [==============================] - 131s 874ms/step - loss: 1.8037 - accuracy: 0.3379 - val_loss: 1.7581 - val_accuracy: 0.3063\n",
            "Epoch 54/100\n",
            "150/150 [==============================] - 130s 872ms/step - loss: 1.8820 - accuracy: 0.2587 - val_loss: 1.8072 - val_accuracy: 0.3313\n",
            "Epoch 55/100\n",
            "150/150 [==============================] - 131s 875ms/step - loss: 1.7959 - accuracy: 0.3498 - val_loss: 1.8196 - val_accuracy: 0.3219\n",
            "Epoch 56/100\n",
            "150/150 [==============================] - 130s 872ms/step - loss: 1.9231 - accuracy: 0.2898 - val_loss: 2.0557 - val_accuracy: 0.2904\n",
            "Epoch 57/100\n",
            "150/150 [==============================] - 130s 871ms/step - loss: 1.7872 - accuracy: 0.3335 - val_loss: 1.7260 - val_accuracy: 0.3140\n",
            "Epoch 58/100\n",
            "150/150 [==============================] - 132s 883ms/step - loss: 1.8047 - accuracy: 0.3410 - val_loss: 1.7400 - val_accuracy: 0.3535\n",
            "Epoch 59/100\n",
            "150/150 [==============================] - 130s 869ms/step - loss: 1.8126 - accuracy: 0.3167 - val_loss: 1.8198 - val_accuracy: 0.3069\n",
            "Epoch 60/100\n",
            "150/150 [==============================] - 131s 875ms/step - loss: 1.8342 - accuracy: 0.3175 - val_loss: 1.7632 - val_accuracy: 0.3539\n",
            "Epoch 61/100\n",
            "150/150 [==============================] - 130s 868ms/step - loss: 1.7424 - accuracy: 0.3496 - val_loss: 1.8852 - val_accuracy: 0.3333\n",
            "Epoch 62/100\n",
            "150/150 [==============================] - 130s 871ms/step - loss: 1.8488 - accuracy: 0.2890 - val_loss: 2.0021 - val_accuracy: 0.2874\n",
            "Epoch 63/100\n",
            "150/150 [==============================] - 131s 875ms/step - loss: 1.7634 - accuracy: 0.3352 - val_loss: 1.7403 - val_accuracy: 0.3396\n",
            "Epoch 64/100\n",
            "150/150 [==============================] - 130s 866ms/step - loss: 1.7882 - accuracy: 0.3223 - val_loss: 1.6859 - val_accuracy: 0.3221\n",
            "Epoch 65/100\n",
            "150/150 [==============================] - 131s 876ms/step - loss: 1.7797 - accuracy: 0.3177 - val_loss: 1.7962 - val_accuracy: 0.3454\n",
            "Epoch 66/100\n",
            "150/150 [==============================] - 130s 871ms/step - loss: 1.8206 - accuracy: 0.2960 - val_loss: 1.7144 - val_accuracy: 0.3621\n",
            "Epoch 67/100\n",
            "150/150 [==============================] - 133s 887ms/step - loss: 1.7121 - accuracy: 0.3494 - val_loss: 1.7840 - val_accuracy: 0.3295\n",
            "Epoch 68/100\n",
            "150/150 [==============================] - 131s 874ms/step - loss: 1.7478 - accuracy: 0.3106 - val_loss: 1.8377 - val_accuracy: 0.3223\n",
            "Epoch 69/100\n",
            "150/150 [==============================] - 132s 882ms/step - loss: 1.8509 - accuracy: 0.2660 - val_loss: 1.7370 - val_accuracy: 0.3476\n",
            "Epoch 70/100\n",
            "150/150 [==============================] - 130s 868ms/step - loss: 1.7069 - accuracy: 0.3654 - val_loss: 1.6779 - val_accuracy: 0.3601\n",
            "Epoch 71/100\n",
            "150/150 [==============================] - 130s 870ms/step - loss: 1.7103 - accuracy: 0.3344 - val_loss: 1.7355 - val_accuracy: 0.3396\n",
            "Epoch 72/100\n",
            "150/150 [==============================] - 130s 870ms/step - loss: 1.7476 - accuracy: 0.3675 - val_loss: 1.6230 - val_accuracy: 0.3629\n",
            "Epoch 73/100\n",
            "150/150 [==============================] - 130s 872ms/step - loss: 1.7397 - accuracy: 0.3347 - val_loss: 1.7967 - val_accuracy: 0.3605\n",
            "Epoch 74/100\n",
            "150/150 [==============================] - 131s 875ms/step - loss: 1.7800 - accuracy: 0.3354 - val_loss: 1.6548 - val_accuracy: 0.3605\n",
            "Epoch 75/100\n",
            "150/150 [==============================] - 130s 871ms/step - loss: 1.7470 - accuracy: 0.3460 - val_loss: 1.7088 - val_accuracy: 0.3440\n",
            "Epoch 76/100\n",
            "150/150 [==============================] - 132s 881ms/step - loss: 1.7182 - accuracy: 0.3490 - val_loss: 1.6532 - val_accuracy: 0.3694\n",
            "Epoch 77/100\n",
            "150/150 [==============================] - 130s 868ms/step - loss: 1.7703 - accuracy: 0.3633 - val_loss: 1.6849 - val_accuracy: 0.3490\n",
            "Epoch 78/100\n",
            "150/150 [==============================] - 131s 875ms/step - loss: 1.6951 - accuracy: 0.3481 - val_loss: 1.9014 - val_accuracy: 0.2880\n",
            "Epoch 79/100\n",
            "150/150 [==============================] - 132s 884ms/step - loss: 1.6867 - accuracy: 0.3898 - val_loss: 1.7434 - val_accuracy: 0.3517\n",
            "Epoch 80/100\n",
            "150/150 [==============================] - 130s 871ms/step - loss: 1.6889 - accuracy: 0.3750 - val_loss: 1.6806 - val_accuracy: 0.3289\n",
            "Epoch 81/100\n",
            "150/150 [==============================] - 132s 879ms/step - loss: 1.6533 - accuracy: 0.3656 - val_loss: 1.7479 - val_accuracy: 0.3333\n",
            "Epoch 82/100\n",
            "150/150 [==============================] - 130s 866ms/step - loss: 1.7068 - accuracy: 0.3846 - val_loss: 1.7376 - val_accuracy: 0.3198\n",
            "Epoch 83/100\n",
            "150/150 [==============================] - 130s 873ms/step - loss: 1.6820 - accuracy: 0.3584 - val_loss: 1.7879 - val_accuracy: 0.3458\n",
            "Epoch 84/100\n",
            "150/150 [==============================] - 130s 866ms/step - loss: 1.9255 - accuracy: 0.3458 - val_loss: 1.6281 - val_accuracy: 0.3652\n",
            "Epoch 85/100\n",
            "150/150 [==============================] - 131s 875ms/step - loss: 1.7190 - accuracy: 0.3723 - val_loss: 1.6322 - val_accuracy: 0.3738\n",
            "Epoch 86/100\n",
            "150/150 [==============================] - 130s 869ms/step - loss: 1.8228 - accuracy: 0.3058 - val_loss: 1.7975 - val_accuracy: 0.3364\n",
            "Epoch 87/100\n",
            "150/150 [==============================] - 130s 869ms/step - loss: 1.7047 - accuracy: 0.3902 - val_loss: 1.6764 - val_accuracy: 0.3448\n",
            "Epoch 88/100\n",
            "150/150 [==============================] - 130s 866ms/step - loss: 1.9022 - accuracy: 0.3475 - val_loss: 1.8079 - val_accuracy: 0.3573\n",
            "Epoch 89/100\n",
            "150/150 [==============================] - 130s 872ms/step - loss: 1.7472 - accuracy: 0.3565 - val_loss: 1.7194 - val_accuracy: 0.3714\n",
            "Epoch 90/100\n",
            "150/150 [==============================] - 132s 882ms/step - loss: 1.6719 - accuracy: 0.3850 - val_loss: 1.8390 - val_accuracy: 0.2989\n",
            "Epoch 91/100\n",
            "150/150 [==============================] - 131s 874ms/step - loss: 1.7830 - accuracy: 0.3042 - val_loss: 1.7021 - val_accuracy: 0.3517\n",
            "Epoch 92/100\n",
            "150/150 [==============================] - 130s 866ms/step - loss: 1.7205 - accuracy: 0.3540 - val_loss: 1.7313 - val_accuracy: 0.3688\n",
            "Epoch 93/100\n",
            "150/150 [==============================] - 131s 877ms/step - loss: 1.7157 - accuracy: 0.3633 - val_loss: 1.7159 - val_accuracy: 0.3392\n",
            "Epoch 94/100\n",
            "150/150 [==============================] - 130s 868ms/step - loss: 1.7376 - accuracy: 0.3598 - val_loss: 1.7073 - val_accuracy: 0.3573\n",
            "Epoch 95/100\n",
            "150/150 [==============================] - 130s 871ms/step - loss: 1.7055 - accuracy: 0.3569 - val_loss: 1.6789 - val_accuracy: 0.3668\n",
            "Epoch 96/100\n",
            "150/150 [==============================] - 130s 868ms/step - loss: 1.7736 - accuracy: 0.3129 - val_loss: 1.6242 - val_accuracy: 0.3519\n",
            "Epoch 97/100\n",
            "150/150 [==============================] - 130s 868ms/step - loss: 1.7444 - accuracy: 0.3592 - val_loss: 1.7437 - val_accuracy: 0.3688\n",
            "Epoch 98/100\n",
            "150/150 [==============================] - 131s 874ms/step - loss: 1.7238 - accuracy: 0.3643 - val_loss: 1.6836 - val_accuracy: 0.3644\n",
            "Epoch 99/100\n",
            "150/150 [==============================] - 130s 869ms/step - loss: 1.7785 - accuracy: 0.3644 - val_loss: 1.6163 - val_accuracy: 0.3720\n",
            "Epoch 100/100\n",
            "150/150 [==============================] - 131s 877ms/step - loss: 1.6660 - accuracy: 0.3715 - val_loss: 1.6311 - val_accuracy: 0.3654\n"
          ],
          "name": "stdout"
        },
        {
          "output_type": "display_data",
          "data": {
            "image/png": "[encoded data removed]",
            "text/plain": [
              "<Figure size 864x720 with 1 Axes>"
            ]
          },
          "metadata": {
            "tags": [],
            "needs_background": "light"
          }
        },
        {
          "output_type": "display_data",
          "data": {
            "image/png": "[encoded data removed]",
            "text/plain": [
              "<Figure size 864x720 with 1 Axes>"
            ]
          },
          "metadata": {
            "tags": [],
            "needs_background": "light"
          }
        }
      ]
    }
  ]
}